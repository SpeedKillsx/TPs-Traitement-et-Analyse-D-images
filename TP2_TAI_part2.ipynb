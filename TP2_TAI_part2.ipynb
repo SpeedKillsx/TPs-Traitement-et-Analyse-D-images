{
  "nbformat": 4,
  "nbformat_minor": 0,
  "metadata": {
    "colab": {
      "provenance": [],
      "include_colab_link": true
    },
    "kernelspec": {
      "name": "python3",
      "display_name": "Python 3"
    },
    "language_info": {
      "name": "python"
    }
  },
  "cells": [
    {
      "cell_type": "markdown",
      "metadata": {
        "id": "view-in-github",
        "colab_type": "text"
      },
      "source": [
        "<a href=\"https://colab.research.google.com/github/SpeedKillsx/TPs-Traitement-et-Analyse-D-images/blob/main/TP2_TAI_part2.ipynb\" target=\"_parent\"><img src=\"https://colab.research.google.com/assets/colab-badge.svg\" alt=\"Open In Colab\"/></a>"
      ]
    },
    {
      "cell_type": "code",
      "metadata": {
        "id": "lwRQrLhWfb2O"
      },
      "source": [
        "from PIL import Image\n",
        "import numpy as np\n",
        "import matplotlib.pyplot as plt\n",
        "import cv2 as cv\n",
        "import math"
      ],
      "execution_count": null,
      "outputs": []
    },
    {
      "cell_type": "code",
      "metadata": {
        "id": "flK7cXfgfi2E"
      },
      "source": [
        "img = np.empty(shape=(8,8),dtype=np.uint8)\n",
        "img[0][0] = 0 ;\n",
        "img[0][1] = 12 ;\n",
        "img[0][2] = 53 ;\n",
        "img[0][3] = 32 ;\n",
        "img[0][4] = 190 ;\n",
        "img[0][5] = 53 ;\n",
        "img[0][6] = 174 ;\n",
        "img[0][7] = 53 ;\n",
        "img[1][0] = 57 ;\n",
        "img[1][1] = 32 ;\n",
        "img[1][2] = 12 ;\n",
        "img[1][3] = 227 ;\n",
        "img[1][4] = 219 ;\n",
        "img[1][5] = 202 ;\n",
        "img[1][6] = 32 ;\n",
        "img[1][7] = 154;\n",
        "img[2][0] = 65 ;\n",
        "img[2][1] = 85 ;\n",
        "img[2][2] = 93 ;\n",
        "img[2][3] = 239 ;\n",
        "img[2][4] = 251 ;\n",
        "img[2][5] = 227 ;\n",
        "img[2][6] = 65 ;\n",
        "img[2][7] = 158 ;\n",
        "img[3][0] = 73 ;\n",
        "img[3][1] = 146 ;\n",
        "img[3][2] = 146 ;\n",
        "img[3][3] = 247 ;\n",
        "img[3][4] = 255 ;\n",
        "img[3][5] = 235 ;\n",
        "img[3][6] = 154 ;\n",
        "img[3][7] = 130 ;\n",
        "img[4][0] = 97 ;\n",
        "img[4][1] = 166 ;\n",
        "img[4][2] = 117 ;\n",
        "img[4][3] = 231 ;\n",
        "img[4][4] = 243 ;\n",
        "img[4][5] = 210 ;\n",
        "img[4][6] = 117 ;\n",
        "img[4][7] = 117 ;\n",
        "img[5][0] = 117 ;\n",
        "img[5][1] = 190 ;\n",
        "img[5][2] = 36 ;\n",
        "img[5][3] = 146 ;\n",
        "img[5][4] = 178 ;\n",
        "img[5][5] = 93 ;\n",
        "img[5][6] = 20 ;\n",
        "img[5][7] = 170 ;\n",
        "img[6][0] = 130 ;\n",
        "img[6][1] = 202 ;\n",
        "img[6][2] = 73 ;\n",
        "img[6][3] = 20 ;\n",
        "img[6][4] = 12 ;\n",
        "img[6][5] = 53 ;\n",
        "img[6][6] = 85 ;\n",
        "img[6][7] = 194 ;\n",
        "img[7][0] = 146 ;\n",
        "img[7][1] = 206 ;\n",
        "img[7][2] = 130 ;\n",
        "img[7][3] = 117 ;\n",
        "img[7][4] = 85 ;\n",
        "img[7][5] = 166 ;\n",
        "img[7][6] = 182 ;\n",
        "img[7][7] = 215 ;"
      ],
      "execution_count": null,
      "outputs": []
    },
    {
      "cell_type": "code",
      "metadata": {
        "colab": {
          "base_uri": "https://localhost:8080/"
        },
        "id": "eTg_mA8PfowV",
        "outputId": "de33f862-5831-42fe-def2-71f74b28ed38"
      },
      "source": [
        "img"
      ],
      "execution_count": null,
      "outputs": [
        {
          "output_type": "execute_result",
          "data": {
            "text/plain": [
              "array([[  0,  12,  53,  32, 190,  53, 174,  53],\n",
              "       [ 57,  32,  12, 227, 219, 202,  32, 154],\n",
              "       [ 65,  85,  93, 239, 251, 227,  65, 158],\n",
              "       [ 73, 146, 146, 247, 255, 235, 154, 130],\n",
              "       [ 97, 166, 117, 231, 243, 210, 117, 117],\n",
              "       [117, 190,  36, 146, 178,  93,  20, 170],\n",
              "       [130, 202,  73,  20,  12,  53,  85, 194],\n",
              "       [146, 206, 130, 117,  85, 166, 182, 215]], dtype=uint8)"
            ]
          },
          "metadata": {},
          "execution_count": 74
        }
      ]
    },
    {
      "cell_type": "code",
      "metadata": {
        "colab": {
          "base_uri": "https://localhost:8080/",
          "height": 282
        },
        "id": "wkym_EblfpXy",
        "outputId": "a18e9a5c-57f0-440c-fb67-6b97a2544c9d"
      },
      "source": [
        "plt.imshow(img,cmap=\"gray\")"
      ],
      "execution_count": null,
      "outputs": [
        {
          "output_type": "execute_result",
          "data": {
            "text/plain": [
              "<matplotlib.image.AxesImage at 0x7f3f7b8923d0>"
            ]
          },
          "metadata": {},
          "execution_count": 75
        },
        {
          "output_type": "display_data",
          "data": {
            "image/png": "[encoded data removed]",
            "text/plain": [
              "<Figure size 432x288 with 1 Axes>"
            ]
          },
          "metadata": {
            "needs_background": "light"
          }
        }
      ]
    },
    {
      "cell_type": "code",
      "metadata": {
        "id": "JYPy0SPsgRFC"
      },
      "source": [
        "def gradient_X(image):\n",
        "  \n",
        "  image_pad = np.pad(image,[0,1],mode=\"constant\",constant_values=0) # ajouter le pading à l'image (img)\n",
        "  image_gradientX = np.zeros(image.shape)\n",
        "\n",
        "  for i in range(image_pad.shape[0] - 1):\n",
        "   for j in range (image_pad.shape[1] - 1):\n",
        "     image_gradientX[i][j] = int(image_pad[i+1,j]) - int(image_pad[i][j])\n",
        "  return image_gradientX\n",
        "\n",
        "  "
      ],
      "execution_count": null,
      "outputs": []
    },
    {
      "cell_type": "code",
      "metadata": {
        "id": "58MzDB7HgV6r"
      },
      "source": [
        "def gradient_Y(image):\n",
        "  image_pad = np.pad(image,[0,1],mode=\"constant\",constant_values=0)\n",
        "  image_gradientY = np.zeros(image.shape)\n",
        "\n",
        "  for i in range(image_pad.shape[0] -1 ):\n",
        "    for j in range(image_pad.shape[1] -1):\n",
        "      image_gradientY[i][j] = int(image_pad[i, j+1])-int(image_pad[i][j])\n",
        "  return image_gradientY"
      ],
      "execution_count": null,
      "outputs": []
    },
    {
      "cell_type": "code",
      "metadata": {
        "colab": {
          "base_uri": "https://localhost:8080/",
          "height": 563
        },
        "id": "OaCrrRjKgXK7",
        "outputId": "bc4b9f83-a8ed-4157-b934-86a1f0920970"
      },
      "source": [
        "GradX = gradient_X(img)\n",
        "GradY = gradient_Y(img)\n",
        "\n",
        "print('gradiant de X\\n', GradX)\n",
        "print('gradiant de Y\\n', GradY)\n",
        "\n",
        "plt.figure()\n",
        "f, axarr = plt.subplots(1,2) \n",
        "axarr[0].imshow(GradX, cmap='gray')\n",
        "axarr[0].set_title(\"Gadiant X\") \n",
        "axarr[1].imshow(GradY, cmap='gray')\n",
        "axarr[1].set_title(\"Gadiant Y\") "
      ],
      "execution_count": null,
      "outputs": [
        {
          "output_type": "stream",
          "name": "stdout",
          "text": [
            "gradiant de X\n",
            " [[  57.   20.  -41.  195.   29.  149. -142.  101.]\n",
            " [   8.   53.   81.   12.   32.   25.   33.    4.]\n",
            " [   8.   61.   53.    8.    4.    8.   89.  -28.]\n",
            " [  24.   20.  -29.  -16.  -12.  -25.  -37.  -13.]\n",
            " [  20.   24.  -81.  -85.  -65. -117.  -97.   53.]\n",
            " [  13.   12.   37. -126. -166.  -40.   65.   24.]\n",
            " [  16.    4.   57.   97.   73.  113.   97.   21.]\n",
            " [-146. -206. -130. -117.  -85. -166. -182. -215.]]\n",
            "gradiant de Y\n",
            " [[  12.   41.  -21.  158. -137.  121. -121.  -53.]\n",
            " [ -25.  -20.  215.   -8.  -17. -170.  122. -154.]\n",
            " [  20.    8.  146.   12.  -24. -162.   93. -158.]\n",
            " [  73.    0.  101.    8.  -20.  -81.  -24. -130.]\n",
            " [  69.  -49.  114.   12.  -33.  -93.    0. -117.]\n",
            " [  73. -154.  110.   32.  -85.  -73.  150. -170.]\n",
            " [  72. -129.  -53.   -8.   41.   32.  109. -194.]\n",
            " [  60.  -76.  -13.  -32.   81.   16.   33. -215.]]\n"
          ]
        },
        {
          "output_type": "execute_result",
          "data": {
            "text/plain": [
              "Text(0.5, 1.0, 'Gadiant Y')"
            ]
          },
          "metadata": {},
          "execution_count": 78
        },
        {
          "output_type": "display_data",
          "data": {
            "text/plain": [
              "<Figure size 432x288 with 0 Axes>"
            ]
          },
          "metadata": {}
        },
        {
          "output_type": "display_data",
          "data": {
            "image/png": "[encoded data removed]",
            "text/plain": [
              "<Figure size 432x288 with 2 Axes>"
            ]
          },
          "metadata": {
            "needs_background": "light"
          }
        }
      ]
    },
    {
      "cell_type": "markdown",
      "metadata": {
        "id": "oNT1xZ-7h99a"
      },
      "source": [
        "# Calcule de la magnitude"
      ]
    },
    {
      "cell_type": "code",
      "metadata": {
        "id": "pnCiz7FtgZHh"
      },
      "source": [
        "def CalculateMOD(GradX, GradY):\n",
        "  MOD = np.zeros(shape = (8,8))\n",
        "\n",
        "  for i in range(GradX.shape[0]):\n",
        "    for j in range(GradX.shape[1]):\n",
        "      sum = GradX[i,j]**2 + GradY[i,j]**2\n",
        "      MOD[i,j] = math.sqrt(sum)\n",
        "  return MOD"
      ],
      "execution_count": null,
      "outputs": []
    },
    {
      "cell_type": "code",
      "metadata": {
        "id": "CwIlke6em2Hh"
      },
      "source": [
        "magnitude= CalculateMOD(GradX, GradY)"
      ],
      "execution_count": null,
      "outputs": []
    },
    {
      "cell_type": "code",
      "metadata": {
        "colab": {
          "base_uri": "https://localhost:8080/"
        },
        "id": "NC8HuHs-m9qw",
        "outputId": "34e0691e-e0ea-4f64-9b0e-88b1f5dfaac8"
      },
      "source": [
        "magnitude"
      ],
      "execution_count": null,
      "outputs": [
        {
          "output_type": "execute_result",
          "data": {
            "text/plain": [
              "array([[ 58.24946352,  45.61797891,  46.06517123, 250.97609448,\n",
              "        140.03570973, 191.94269978, 186.56098199, 114.06138698],\n",
              "       [ 26.2488095 ,  56.64803615, 229.75204025,  14.4222051 ,\n",
              "         36.23534186, 171.82840277, 126.38433447, 154.05193929],\n",
              "       [ 21.54065923,  61.52235366, 155.32224567,  14.4222051 ,\n",
              "         24.33105012, 162.19741058, 128.72451204, 160.46183347],\n",
              "       [ 76.84399781,  20.        , 105.0809212 ,  17.88854382,\n",
              "         23.32380758,  84.77027781,  44.10215414, 130.64838307],\n",
              "       [ 71.84010022,  54.56189146, 139.84634425,  85.84287973,\n",
              "         72.89718787, 149.45902448,  97.        , 128.44454056],\n",
              "       [ 74.14849965, 154.46682492, 116.05602096, 130.        ,\n",
              "        186.49664876,  83.24061509, 163.47782724, 171.68575946],\n",
              "       [ 73.75635566, 129.0620006 ,  77.83315489,  97.32933782,\n",
              "         83.72574276, 117.44360349, 145.91093174, 195.13328778],\n",
              "       [157.84802818, 219.57231155, 130.64838307, 121.29715578,\n",
              "        117.41379817, 166.76930173, 184.96756472, 304.05591591]])"
            ]
          },
          "metadata": {},
          "execution_count": 81
        }
      ]
    },
    {
      "cell_type": "code",
      "metadata": {
        "id": "V4V-TDWAouMJ"
      },
      "source": [
        "def CalculDeLaDirection(GradX, GradY):\n",
        "  matrice_angle = np.zeros_like(GradX)# creer un tableau de meme dimension et type que le tableau donne en entre\n",
        "  for i in range(GradX.shape[0]):\n",
        "    for j in range(GradX.shape[1]):\n",
        "      matrice_angle[i,j] = np.rad2deg(np.arctan(GradY[i,j]/GradX[i,j]))# on calcul le radian puis le convertir vers le degres\n",
        "  return matrice_angle"
      ],
      "execution_count": null,
      "outputs": []
    },
    {
      "cell_type": "code",
      "metadata": {
        "id": "jkh-W4KSrKf3"
      },
      "source": [
        "Direction = CalculDeLaDirection(GradX, GradY)"
      ],
      "execution_count": null,
      "outputs": []
    },
    {
      "cell_type": "code",
      "metadata": {
        "colab": {
          "base_uri": "https://localhost:8080/"
        },
        "id": "BX6lP5EDrXw0",
        "outputId": "37e72202-cd23-46fc-cb88-b586cc3b5b41"
      },
      "source": [
        "Direction"
      ],
      "execution_count": null,
      "outputs": [
        {
          "output_type": "execute_result",
          "data": {
            "text/plain": [
              "array([[ 11.88865804,  63.99665416,  27.1213034 ,  39.01634242,\n",
              "        -78.04812487,  39.07937929,  40.43473762, -27.68835389],\n",
              "       [-72.25532837, -20.67442476,  69.35639125, -33.69006753,\n",
              "        -27.97947439, -81.63411388,  74.8641645 , -88.51213247],\n",
              "       [ 68.19859051,   7.47155918,  70.04840931,  56.30993247,\n",
              "        -80.53767779, -87.17287542,  46.25904521,  79.95065141],\n",
              "       [ 71.80083495,   0.        , -73.9797077 , -26.56505118,\n",
              "         59.03624347,  72.84757826,  32.9694039 ,  84.28940686],\n",
              "       [ 73.83550085, -63.90457584, -54.60520416,  -8.03571071,\n",
              "         26.91655462,  38.48019825,  -0.        , -65.62987995],\n",
              "       [ 79.90249562, -85.54439717,  71.40893227, -14.2500327 ,\n",
              "         27.11463412,  61.2796732 ,  66.57130719, -81.96428929],\n",
              "       [ 77.47119229, -88.22395575, -42.91743472,  -4.71475452,\n",
              "         29.32047588,  15.81137093,  48.33385066, -83.8219351 ],\n",
              "       [-22.34064796,  20.25063351,   5.71059314,  15.29654731,\n",
              "        -43.61964593,  -5.50547786, -10.27714058,  45.        ]])"
            ]
          },
          "metadata": {},
          "execution_count": 84
        }
      ]
    },
    {
      "cell_type": "markdown",
      "metadata": {
        "id": "tIg4Pt1GsVdN"
      },
      "source": [
        "#Binarisation\n",
        "On applique une binarisation quand la valeur de MOD[i,j] < 70"
      ]
    },
    {
      "cell_type": "code",
      "metadata": {
        "id": "8K-OPUiErf9T"
      },
      "source": [
        "def Binarisation(MOD, seuil): # le seuil est ajoute afin de generaliser la fonction de binarisation\n",
        "  mat_bin = np.zeros_like(MOD)\n",
        "  for i in range(MOD.shape[0]):\n",
        "    for j in range(MOD.shape[1]):\n",
        "      if MOD[i,j]< seuil:\n",
        "        mat_bin[i,j] = 0\n",
        "      else:\n",
        "        mat_bin[i,j] = 1\n",
        "  return mat_bin"
      ],
      "execution_count": null,
      "outputs": []
    },
    {
      "cell_type": "code",
      "metadata": {
        "id": "HwFkkiUTtPds"
      },
      "source": [
        "binarisation = Binarisation(magnitude, 70) # Intoduire un seuil "
      ],
      "execution_count": null,
      "outputs": []
    },
    {
      "cell_type": "code",
      "metadata": {
        "colab": {
          "base_uri": "https://localhost:8080/"
        },
        "id": "w0qnUtYltWFy",
        "outputId": "6097be0a-a2b1-4fb6-947c-aa7704e5cab5"
      },
      "source": [
        "binarisation"
      ],
      "execution_count": null,
      "outputs": [
        {
          "output_type": "execute_result",
          "data": {
            "text/plain": [
              "array([[0., 0., 0., 1., 1., 1., 1., 1.],\n",
              "       [0., 0., 1., 0., 0., 1., 1., 1.],\n",
              "       [0., 0., 1., 0., 0., 1., 1., 1.],\n",
              "       [1., 0., 1., 0., 0., 1., 0., 1.],\n",
              "       [1., 0., 1., 1., 1., 1., 1., 1.],\n",
              "       [1., 1., 1., 1., 1., 1., 1., 1.],\n",
              "       [1., 1., 1., 1., 1., 1., 1., 1.],\n",
              "       [1., 1., 1., 1., 1., 1., 1., 1.]])"
            ]
          },
          "metadata": {},
          "execution_count": 87
        }
      ]
    },
    {
      "cell_type": "code",
      "metadata": {
        "colab": {
          "base_uri": "https://localhost:8080/",
          "height": 282
        },
        "id": "nkmjPrYUtXCD",
        "outputId": "17fe3f31-31e6-43b1-c84c-de2ca6b02aa9"
      },
      "source": [
        "plt.imshow(binarisation, cmap=\"gray\")"
      ],
      "execution_count": null,
      "outputs": [
        {
          "output_type": "execute_result",
          "data": {
            "text/plain": [
              "<matplotlib.image.AxesImage at 0x7f3f7b73b690>"
            ]
          },
          "metadata": {},
          "execution_count": 88
        },
        {
          "output_type": "display_data",
          "data": {
            "image/png": "[encoded data removed]",
            "text/plain": [
              "<Figure size 432x288 with 1 Axes>"
            ]
          },
          "metadata": {
            "needs_background": "light"
          }
        }
      ]
    },
    {
      "cell_type": "markdown",
      "metadata": {
        "id": "p5Cujogovwrn"
      },
      "source": [
        "#Dilatation en appliquant une structure de type diamant"
      ]
    },
    {
      "cell_type": "code",
      "metadata": {
        "id": "mbu1uxnYwyA4"
      },
      "source": [
        "def DilatationDiamant(matrice_binaire): # Application d'un ou logique entre les anciennes valeurs de la matrice est la structure diamant\n",
        "\n",
        "  dilatation_diamant = np.copy(matrice_binaire)\n",
        "  for i in range( matrice_binaire.shape[0]-2):\n",
        "    for j in range( matrice_binaire.shape[1]-2):\n",
        "      value_or =  matrice_binaire[i,j+1] or matrice_binaire[i+1,j] or matrice_binaire[i+2,j+1] or matrice_binaire[i+1,j+2] or matrice_binaire[i+1,j+1] or 0 \n",
        "      dilatation_diamant[i+1][j] = value_or\n",
        "      dilatation_diamant[i][j+1] = value_or\n",
        "      dilatation_diamant[i+1][j+2] = value_or\n",
        "      dilatation_diamant[i+2][j+2] = value_or\n",
        "      dilatation_diamant[i+1][j+1] = value_or\n",
        "      \n",
        "  return dilatation_diamant"
      ],
      "execution_count": null,
      "outputs": []
    },
    {
      "cell_type": "code",
      "metadata": {
        "id": "uIGy5Y09yt5x"
      },
      "source": [
        "diamantDilatation = DilatationDiamant(binarisation)"
      ],
      "execution_count": null,
      "outputs": []
    },
    {
      "cell_type": "code",
      "metadata": {
        "colab": {
          "base_uri": "https://localhost:8080/"
        },
        "id": "mc1COesOyze5",
        "outputId": "44a5f156-b9b7-4f02-971b-cf2e377d7758"
      },
      "source": [
        "diamantDilatation"
      ],
      "execution_count": null,
      "outputs": [
        {
          "output_type": "execute_result",
          "data": {
            "text/plain": [
              "array([[0., 1., 1., 1., 1., 1., 1., 1.],\n",
              "       [1., 1., 1., 1., 1., 1., 1., 1.],\n",
              "       [1., 1., 1., 1., 1., 1., 1., 1.],\n",
              "       [1., 1., 1., 1., 1., 1., 1., 1.],\n",
              "       [1., 1., 1., 1., 1., 1., 1., 1.],\n",
              "       [1., 1., 1., 1., 1., 1., 1., 1.],\n",
              "       [1., 1., 1., 1., 1., 1., 1., 1.],\n",
              "       [1., 1., 1., 1., 1., 1., 1., 1.]])"
            ]
          },
          "metadata": {},
          "execution_count": 91
        }
      ]
    },
    {
      "cell_type": "markdown",
      "metadata": {
        "id": "KgGKRexZ4QFr"
      },
      "source": [
        "# Erosion en utilisant une structure carre"
      ]
    },
    {
      "cell_type": "code",
      "metadata": {
        "id": "bSGPxWmjy5Ao"
      },
      "source": [
        "def ErosionCarre(matrice_binaire): # Application d'un et logique entre les anciennes valeurs de la matrice est la structure carree\n",
        "  erosion_carre = np.copy(matrice_binaire)\n",
        "  for i in range(matrice_binaire.shape[0]-2):\n",
        "    for j in range(matrice_binaire.shape[1]-2):\n",
        "      val = int(matrice_binaire[i][j] and matrice_binaire[i][j+1] and matrice_binaire[i][j+2] and matrice_binaire[i+1][j] and matrice_binaire[i+1][j+1] and matrice_binaire[i+1][j+2] and matrice_binaire[i+2][j] and matrice_binaire[i+2][j+1] and matrice_binaire[i+2][j+2])  \n",
        "      erosion_carre[i][j]=val\n",
        "      erosion_carre[i+1][j]=val\n",
        "      erosion_carre[i+2][j]=val\n",
        "      erosion_carre[i][j+1]=val\n",
        "      erosion_carre[i+1][j+1]=val\n",
        "      erosion_carre[i+2][j+1]=val\n",
        "      erosion_carre[i][j+2]=val\n",
        "      erosion_carre[i+1][j+2]=val\n",
        "      erosion_carre[i+2][j+2]=val\n",
        "  return erosion_carre"
      ],
      "execution_count": null,
      "outputs": []
    },
    {
      "cell_type": "code",
      "metadata": {
        "id": "z4NAysvJodsa"
      },
      "source": [
        "carreEronsion = ErosionCarre(binarisation)"
      ],
      "execution_count": null,
      "outputs": []
    },
    {
      "cell_type": "code",
      "metadata": {
        "colab": {
          "base_uri": "https://localhost:8080/"
        },
        "id": "630l4yE6ok2P",
        "outputId": "c83a8972-2f95-4c57-b8ff-686ab3c0fd67"
      },
      "source": [
        "carreEronsion"
      ],
      "execution_count": null,
      "outputs": [
        {
          "output_type": "execute_result",
          "data": {
            "text/plain": [
              "array([[0., 0., 0., 0., 0., 1., 1., 1.],\n",
              "       [0., 0., 0., 0., 0., 0., 0., 0.],\n",
              "       [0., 0., 0., 0., 0., 0., 0., 0.],\n",
              "       [0., 0., 0., 0., 0., 0., 0., 0.],\n",
              "       [0., 0., 1., 1., 1., 1., 1., 1.],\n",
              "       [1., 1., 1., 1., 1., 1., 1., 1.],\n",
              "       [1., 1., 1., 1., 1., 1., 1., 1.],\n",
              "       [1., 1., 1., 1., 1., 1., 1., 1.]])"
            ]
          },
          "metadata": {},
          "execution_count": 94
        }
      ]
    },
    {
      "cell_type": "code",
      "metadata": {
        "colab": {
          "base_uri": "https://localhost:8080/",
          "height": 282
        },
        "id": "-jDeaHdfb9uV",
        "outputId": "3402aa84-9733-42bb-a4ca-c5cb22137ada"
      },
      "source": [
        "plt.imshow(carreEronsion, cmap=\"gray\",vmin=0,vmax=1)"
      ],
      "execution_count": null,
      "outputs": [
        {
          "output_type": "execute_result",
          "data": {
            "text/plain": [
              "<matplotlib.image.AxesImage at 0x7f3f7c086190>"
            ]
          },
          "metadata": {},
          "execution_count": 95
        },
        {
          "output_type": "display_data",
          "data": {
            "image/png": "[encoded data removed]",
            "text/plain": [
              "<Figure size 432x288 with 1 Axes>"
            ]
          },
          "metadata": {
            "needs_background": "light"
          }
        }
      ]
    },
    {
      "cell_type": "code",
      "metadata": {
        "id": "648zl6RA2qL_"
      },
      "source": [
        "imageB = np.copy(img)\n",
        "kernel = np.ones((3,3), np.uint8)\n",
        "# imageB est l'image après seuillage\n",
        "imageDI = cv.dilate(imageB, kernel, iterations=1)\n",
        "imagzER = cv.erode(imageB, kernel, iterations=1)"
      ],
      "execution_count": null,
      "outputs": []
    },
    {
      "cell_type": "code",
      "metadata": {
        "colab": {
          "base_uri": "https://localhost:8080/",
          "height": 282
        },
        "id": "hT37iAWB20bh",
        "outputId": "15bd5dcf-a487-48e3-871b-ce2aea79d4ee"
      },
      "source": [
        "plt.imshow(imageDI, cmap=\"gray\")"
      ],
      "execution_count": null,
      "outputs": [
        {
          "output_type": "execute_result",
          "data": {
            "text/plain": [
              "<matplotlib.image.AxesImage at 0x7f3f7bb5dad0>"
            ]
          },
          "metadata": {},
          "execution_count": 97
        },
        {
          "output_type": "display_data",
          "data": {
            "image/png": "[encoded data removed]",
            "text/plain": [
              "<Figure size 432x288 with 1 Axes>"
            ]
          },
          "metadata": {
            "needs_background": "light"
          }
        }
      ]
    },
    {
      "cell_type": "code",
      "metadata": {
        "colab": {
          "base_uri": "https://localhost:8080/"
        },
        "id": "-LBM7CPI3X-U",
        "outputId": "ebec9039-685f-4a2b-8dfd-9f925d0e64bd"
      },
      "source": [
        "imagzER"
      ],
      "execution_count": null,
      "outputs": [
        {
          "output_type": "execute_result",
          "data": {
            "text/plain": [
              "array([[  0,   0,  12,  12,  32,  32,  32,  32],\n",
              "       [  0,   0,  12,  12,  32,  32,  32,  32],\n",
              "       [ 32,  12,  12,  12, 202,  32,  32,  32],\n",
              "       [ 65,  65,  85,  93, 210,  65,  65,  65],\n",
              "       [ 73,  36,  36,  36,  93,  20,  20,  20],\n",
              "       [ 97,  36,  20,  12,  12,  12,  20,  20],\n",
              "       [117,  36,  20,  12,  12,  12,  20,  20],\n",
              "       [130,  73,  20,  12,  12,  12,  53,  85]], dtype=uint8)"
            ]
          },
          "metadata": {},
          "execution_count": 98
        }
      ]
    },
    {
      "cell_type": "code",
      "metadata": {
        "colab": {
          "base_uri": "https://localhost:8080/",
          "height": 282
        },
        "id": "ycfP52rU3l3g",
        "outputId": "1cf25360-9a32-4c70-80b5-4964a6cf7b81"
      },
      "source": [
        "plt.imshow(imagzER,cmap=\"gray\")"
      ],
      "execution_count": null,
      "outputs": [
        {
          "output_type": "execute_result",
          "data": {
            "text/plain": [
              "<matplotlib.image.AxesImage at 0x7f3f7b640d90>"
            ]
          },
          "metadata": {},
          "execution_count": 99
        },
        {
          "output_type": "display_data",
          "data": {
            "image/png": "[encoded data removed]",
            "text/plain": [
              "<Figure size 432x288 with 1 Axes>"
            ]
          },
          "metadata": {
            "needs_background": "light"
          }
        }
      ]
    },
    {
      "cell_type": "markdown",
      "metadata": {
        "id": "QuxXf028vrXm"
      },
      "source": [
        "#Application du filtre Sobel et Perwitt"
      ]
    },
    {
      "cell_type": "markdown",
      "metadata": {
        "id": "o7OYdeIS9r2j"
      },
      "source": [
        "## Filtre de Sobel"
      ]
    },
    {
      "cell_type": "code",
      "metadata": {
        "id": "qxG7bUZAovYo"
      },
      "source": [
        "def SobelFiltre(image):\n",
        "  #Creation d'une copie de l'image\n",
        "  image_copy = np.copy(image)\n",
        "  # application du padding \n",
        "  image_pad = np.pad(image_copy, [1,1], mode=\"constant\", constant_values=0)\n",
        "  # creation de la matrice x et y\n",
        "  SobelX = np.zeros(image.shape)\n",
        "  SobelY = np.zeros(image.shape)\n",
        "  # Calcule de la valeur du gradient par rapport a X\n",
        "  for i in range(0,image_pad.shape[0] - 2):\n",
        "    for j in range(0,image_pad.shape[1] - 2):\n",
        "      val = ((-1 * image_pad[i,j])+ (0 * image_pad[i,j+1]) +(1 * image_pad[i,j+2])+(-2 * image_pad[i+1,j])+ (0 * image_pad[i+1,j+1])+(2 * image_pad[i+1,j+2]) + (-1 * image_pad[i+2,j])+ (0 * image_pad[i+2,j+1]) + (1* image_pad[i+2,j+2]) )\n",
        "      if val > 255:\n",
        "        SobelX[i, j] = 255\n",
        "      elif val < 0:\n",
        "        SobelX[i, j ] = 0\n",
        "      else:\n",
        "        SobelX[i,j]=val\n",
        "      \n",
        "  # Calcule de la valeur du graident par rapport a Y\n",
        "  for i in range(0,image_pad.shape[0] - 2):\n",
        "    for j in range(0,image_pad.shape[1] - 2):\n",
        "      val = ((-1 * image_pad[i,j])+ (-2 * image_pad[i,j+1]) +(-1 * image_pad[i,j+2])+(0 * image_pad[i+1,j])+ (0 * image_pad[i+1,j+1])+(0 * image_pad[i+1,j+2]) + (1 * image_pad[i+2,j])+ (2 * image_pad[i+2,j+1]) + (1* image_pad[i+2,j+2]) )\n",
        "      if val >255:\n",
        "        SobelY[i, j] = 255\n",
        "      elif val<0:\n",
        "        SobelY[i,j] = 0\n",
        "      else:\n",
        "        SobelY[i,j] = val\n",
        "\n",
        "\n",
        "  return SobelX, SobelY"
      ],
      "execution_count": null,
      "outputs": []
    },
    {
      "cell_type": "code",
      "metadata": {
        "id": "Vg9Fs1Bw3G2M"
      },
      "source": [
        "SobelX, SobelY = SobelFiltre(img)"
      ],
      "execution_count": null,
      "outputs": []
    },
    {
      "cell_type": "code",
      "metadata": {
        "colab": {
          "base_uri": "https://localhost:8080/"
        },
        "id": "6qjhvcet3KBz",
        "outputId": "7d524896-6a53-4ae5-ea92-b3a64ea1cf96"
      },
      "source": [
        "print(\"Sobel par rapport a X\")\n",
        "SobelX"
      ],
      "execution_count": null,
      "outputs": [
        {
          "output_type": "stream",
          "name": "stdout",
          "text": [
            "Sobel par rapport a X\n"
          ]
        },
        {
          "output_type": "execute_result",
          "data": {
            "text/plain": [
              "array([[ 56.,  61., 235., 255.,  17.,   0.,   0.,   0.],\n",
              "       [161.,   0., 255., 255.,   0.,   0.,   0.,   0.],\n",
              "       [255.,  84., 255., 255.,   0.,   0.,   0.,   0.],\n",
              "       [255., 194., 255., 255.,   0.,   0.,   0.,   0.],\n",
              "       [255.,  32., 187., 255.,   0.,   0.,   0.,   0.],\n",
              "       [255.,   0.,   0., 255.,   0.,   0., 202.,   0.],\n",
              "       [255.,   0.,   0.,   0.,  62.,  85., 255.,   0.],\n",
              "       [255.,   0.,   0.,   0., 131., 255., 239.,   0.]])"
            ]
          },
          "metadata": {},
          "execution_count": 102
        }
      ]
    },
    {
      "cell_type": "code",
      "metadata": {
        "colab": {
          "base_uri": "https://localhost:8080/",
          "height": 282
        },
        "id": "zM6auv_Y4TSj",
        "outputId": "cada5dbd-add6-48a9-fb39-26697d4210fd"
      },
      "source": [
        "plt.imshow(SobelX,cmap=\"gray\")"
      ],
      "execution_count": null,
      "outputs": [
        {
          "output_type": "execute_result",
          "data": {
            "text/plain": [
              "<matplotlib.image.AxesImage at 0x7f3f7b62d6d0>"
            ]
          },
          "metadata": {},
          "execution_count": 103
        },
        {
          "output_type": "display_data",
          "data": {
            "image/png": "[encoded data removed]",
            "text/plain": [
              "<Figure size 432x288 with 1 Axes>"
            ]
          },
          "metadata": {
            "needs_background": "light"
          }
        }
      ]
    },
    {
      "cell_type": "code",
      "metadata": {
        "colab": {
          "base_uri": "https://localhost:8080/"
        },
        "id": "BL95LEt287bZ",
        "outputId": "27da13bd-ad37-403a-fd51-c90f9474520a"
      },
      "source": [
        "print(\"Sobel par rapport a Y\")\n",
        "SobelY"
      ],
      "execution_count": null,
      "outputs": [
        {
          "output_type": "stream",
          "name": "stdout",
          "text": [
            "Sobel par rapport a Y\n"
          ]
        },
        {
          "output_type": "execute_result",
          "data": {
            "text/plain": [
              "array([[146., 133., 255., 255., 255., 255., 255., 255.],\n",
              "       [203., 251., 255., 255., 255., 255.,  61., 101.],\n",
              "       [146., 255., 255., 210., 125., 224., 253.,  74.],\n",
              "       [145., 218., 121.,   0.,   0.,  10.,  46.,   0.],\n",
              "       [132.,  22.,   0.,   0.,   0.,   0.,   0.,   0.],\n",
              "       [102.,  61.,   0.,   0.,   0.,   0.,   0., 122.],\n",
              "       [ 74., 155., 175.,   0.,   0., 215., 255., 252.],\n",
              "       [  0.,   0.,   0.,   0.,   0.,   0.,   0.,   0.]])"
            ]
          },
          "metadata": {},
          "execution_count": 104
        }
      ]
    },
    {
      "cell_type": "code",
      "metadata": {
        "colab": {
          "base_uri": "https://localhost:8080/",
          "height": 282
        },
        "id": "wohpGsKM4b2l",
        "outputId": "3d75260a-393c-4fe2-ac74-345f453c21f4"
      },
      "source": [
        "plt.imshow(SobelY,cmap=\"gray\")"
      ],
      "execution_count": null,
      "outputs": [
        {
          "output_type": "execute_result",
          "data": {
            "text/plain": [
              "<matplotlib.image.AxesImage at 0x7f3f7b59cbd0>"
            ]
          },
          "metadata": {},
          "execution_count": 105
        },
        {
          "output_type": "display_data",
          "data": {
            "image/png": "[encoded data removed]",
            "text/plain": [
              "<Figure size 432x288 with 1 Axes>"
            ]
          },
          "metadata": {
            "needs_background": "light"
          }
        }
      ]
    },
    {
      "cell_type": "markdown",
      "metadata": {
        "id": "ZzRVIr_h9w6T"
      },
      "source": [
        "##Filtre de Prewitt "
      ]
    },
    {
      "cell_type": "code",
      "metadata": {
        "id": "N0UfI0Io9kXh"
      },
      "source": [
        "def PrewittFiltre(image):\n",
        "  #Creation d'une copie de l'image\n",
        "  image_copy = np.copy(image)\n",
        "  # application du padding \n",
        "  image_pad = np.pad(image_copy, [1,1], mode=\"constant\", constant_values=0)\n",
        "  # creation de la matrice x et y\n",
        "  PrewittX = np.zeros(image.shape)\n",
        "  PrewittY = np.zeros(image.shape)\n",
        "  # Calcule de la valeur du gradient par rapport a X\n",
        "  for i in range(0,image_pad.shape[0] - 2):\n",
        "    for j in range(0,image_pad.shape[1] - 2):\n",
        "      val = ((-1 * image_pad[i,j])+ (0 * image_pad[i,j+1]) +(1 * image_pad[i,j+2])+(-1 * image_pad[i+1,j])+ (0 * image_pad[i+1,j+1])+(1 * image_pad[i+1,j+2]) + (-1 * image_pad[i+2,j])+ (0 * image_pad[i+2,j+1]) + (1* image_pad[i+2,j+2]) )\n",
        "      if val > 255:\n",
        "        PrewittX[i ,j] = 255\n",
        "      elif val<0:\n",
        "        PrewittX[i,j] = 0\n",
        "      else:\n",
        "        PrewittX[i,j] = val \n",
        "  # Calcule de la valeur du graident par rapport a Y\n",
        "  for i in range(0,image_pad.shape[0] - 2):\n",
        "    for j in range(0,image_pad.shape[1] - 2):\n",
        "      val = ((-1 * image_pad[i,j])+ (-1 * image_pad[i,j+1]) +(-1 * image_pad[i,j+2])+(0 * image_pad[i+1,j])+ (0 * image_pad[i+1,j+1])+(0 * image_pad[i+1,j+2]) + (1 * image_pad[i+2,j])+ (1 * image_pad[i+2,j+1]) + (1* image_pad[i+2,j+2]) )\n",
        "      if val > 255:\n",
        "        PrewittY[i ,j] = 255\n",
        "      elif val<0:\n",
        "        PrewittY[i,j] = 0\n",
        "      else:\n",
        "        PrewittY[i,j] = val \n",
        "\n",
        "\n",
        "  return PrewittX, PrewittY"
      ],
      "execution_count": null,
      "outputs": []
    },
    {
      "cell_type": "code",
      "metadata": {
        "id": "OGxAUZHE-1o-"
      },
      "source": [
        "PrewittX, PrewittY = PrewittFiltre(img)"
      ],
      "execution_count": null,
      "outputs": []
    },
    {
      "cell_type": "code",
      "metadata": {
        "colab": {
          "base_uri": "https://localhost:8080/"
        },
        "id": "JIouFipR--Nb",
        "outputId": "6b730212-2126-4a79-fb7e-036cdeda35bb"
      },
      "source": [
        "print(\"Prewitt par rapport a X\")\n",
        "PrewittX"
      ],
      "execution_count": null,
      "outputs": [
        {
          "output_type": "stream",
          "name": "stdout",
          "text": [
            "Prewitt par rapport a X\n"
          ]
        },
        {
          "output_type": "execute_result",
          "data": {
            "text/plain": [
              "array([[ 44.,   8., 215., 255.,   0.,   0.,   0.,   0.],\n",
              "       [129.,  36., 255., 255.,   0.,   0.,   0.,   0.],\n",
              "       [255.,  56., 255., 255.,   0.,   0.,   0.,   0.],\n",
              "       [255., 121., 255., 255.,   0.,   0.,   0.,   0.],\n",
              "       [255.,  12., 122., 255.,   0.,   0.,   0.,   0.],\n",
              "       [255.,   0.,   0., 207.,   0.,   0., 125.,   0.],\n",
              "       [255.,   0.,   0.,  36.,  29.,  12., 255.,   0.],\n",
              "       [255.,   0.,   0.,   0.,  82., 170., 190.,   0.]])"
            ]
          },
          "metadata": {},
          "execution_count": 108
        }
      ]
    },
    {
      "cell_type": "code",
      "metadata": {
        "colab": {
          "base_uri": "https://localhost:8080/",
          "height": 282
        },
        "id": "85oom65f4rMw",
        "outputId": "d7ad4ebb-e430-49d9-fb6c-daddada8d537"
      },
      "source": [
        "plt.imshow(PrewittX,cmap=\"gray\")"
      ],
      "execution_count": null,
      "outputs": [
        {
          "output_type": "execute_result",
          "data": {
            "text/plain": [
              "<matplotlib.image.AxesImage at 0x7f3f7b50e410>"
            ]
          },
          "metadata": {},
          "execution_count": 109
        },
        {
          "output_type": "display_data",
          "data": {
            "image/png": "[encoded data removed]",
            "text/plain": [
              "<Figure size 432x288 with 1 Axes>"
            ]
          },
          "metadata": {
            "needs_background": "light"
          }
        }
      ]
    },
    {
      "cell_type": "code",
      "metadata": {
        "colab": {
          "base_uri": "https://localhost:8080/"
        },
        "id": "9ltrzu0I_Dzt",
        "outputId": "c5e1d4d7-eac0-4ae3-d2b9-e9e1e77d5c3d"
      },
      "source": [
        "print(\"Prewitt par rapport a Y\")\n",
        "PrewittY"
      ],
      "execution_count": null,
      "outputs": [
        {
          "output_type": "stream",
          "name": "stdout",
          "text": [
            "Prewitt par rapport a Y\n"
          ]
        },
        {
          "output_type": "execute_result",
          "data": {
            "text/plain": [
              "array([[ 89., 101., 255., 255., 255., 255., 255., 186.],\n",
              "       [138., 178., 255., 255., 255., 126., 170.,   0.],\n",
              "       [130., 255., 255., 190.,  89., 191., 131.,  98.],\n",
              "       [113., 137.,  97.,   8.,   0.,  27.,   0.,  11.],\n",
              "       [ 88.,   0.,   0.,   0.,   0.,   0.,   0.,   0.],\n",
              "       [ 69.,  25.,   0.,   0.,   0.,   0.,   0.,  45.],\n",
              "       [ 45., 139.,  81.,   0.,   0., 142., 255., 207.],\n",
              "       [  0.,   0.,   0.,   0.,   0.,   0.,   0.,   0.]])"
            ]
          },
          "metadata": {},
          "execution_count": 110
        }
      ]
    },
    {
      "cell_type": "code",
      "metadata": {
        "colab": {
          "base_uri": "https://localhost:8080/",
          "height": 282
        },
        "id": "UESGlgAy4vB2",
        "outputId": "5cab611d-d15a-4f9a-b959-bc57b8530b69"
      },
      "source": [
        "plt.imshow(PrewittY,cmap=\"gray\")"
      ],
      "execution_count": null,
      "outputs": [
        {
          "output_type": "execute_result",
          "data": {
            "text/plain": [
              "<matplotlib.image.AxesImage at 0x7f3f7b4f4910>"
            ]
          },
          "metadata": {},
          "execution_count": 111
        },
        {
          "output_type": "display_data",
          "data": {
            "image/png": "[encoded data removed]",
            "text/plain": [
              "<Figure size 432x288 with 1 Axes>"
            ]
          },
          "metadata": {
            "needs_background": "light"
          }
        }
      ]
    },
    {
      "cell_type": "code",
      "metadata": {
        "id": "K1DK5WzI5X_9"
      },
      "source": [
        "#Prewitt\n",
        "c=1\n",
        "# commenter et décommenter c au besoin\n",
        "filtreP_x = np.array([[-1,0,1],[-c,0,c],[1,0,1]])\n",
        "filtreP_y = np.array([[-1,-c,-1],[0,0,0],[1,c,1]])\n",
        "#Sobel\n",
        "c=2\n",
        "filtreS_x = np.array([[-1,0,1],[-c,0,c],[1,0,1]])\n",
        "filtreS_y = np.array([[-1,-c,-1],[0,0,0],[1,c,1]])"
      ],
      "execution_count": null,
      "outputs": []
    },
    {
      "cell_type": "code",
      "metadata": {
        "colab": {
          "base_uri": "https://localhost:8080/",
          "height": 138
        },
        "id": "ffTjuZ6W401b",
        "outputId": "43ba1d53-698d-429e-86ff-bdb11bfed0a4"
      },
      "source": [
        "Gx_Prewitt_cv=cv.filter2D(img,-1,kernel=filtreP_x)\n",
        "Gy_Prewitt_cv=cv.filter2D(img,-1,kernel=filtreP_y)\n",
        "Gx_Sobel_cv=cv.filter2D(img,-1,kernel=filtreS_x)\n",
        "Gy_Sobel_cv=cv.filter2D(img,-1,kernel=filtreS_y)\n",
        "plt.subplot(141)\n",
        "plt.imshow(Gx_Prewitt_cv,cmap='gray')\n",
        "plt.subplot(142)\n",
        "plt.imshow(Gy_Prewitt_cv,cmap='gray')\n",
        "plt.subplot(143)\n",
        "plt.imshow(Gx_Sobel_cv,cmap='gray')\n",
        "plt.subplot(144)\n",
        "plt.imshow(Gy_Sobel_cv,cmap='gray')"
      ],
      "execution_count": null,
      "outputs": [
        {
          "output_type": "execute_result",
          "data": {
            "text/plain": [
              "<matplotlib.image.AxesImage at 0x7f3f7b3a51d0>"
            ]
          },
          "metadata": {},
          "execution_count": 113
        },
        {
          "output_type": "display_data",
          "data": {
            "image/png": "[encoded data removed]",
            "text/plain": [
              "<Figure size 432x288 with 4 Axes>"
            ]
          },
          "metadata": {
            "needs_background": "light"
          }
        }
      ]
    },
    {
      "cell_type": "markdown",
      "metadata": {
        "id": "F-TezjJB_3Cz"
      },
      "source": [
        "#Filtre Laplacian"
      ]
    },
    {
      "cell_type": "code",
      "metadata": {
        "id": "p5ousNcQCTwr"
      },
      "source": [
        "def LaplcaianFilter(image):\n",
        "  #Creation d'une copie de l'image\n",
        "  image_copy = np.copy(image)\n",
        "  # application du padding \n",
        "  image_pad = np.pad(image_copy, [1,1], mode=\"constant\", constant_values=0)\n",
        "  # creation de la matrice de la place\n",
        "  Laplacian_matrix = np.zeros(image.shape)\n",
        "  print(image_pad)\n",
        "  print(image_pad.shape)\n",
        "  print(Laplacian_matrix.shape)\n",
        "  # Calcule de la valeur du gradient par rapport a X\n",
        "  for i in range(0,image_pad.shape[0] - 2):\n",
        "    for j in range(0,image_pad.shape[1] - 2):\n",
        "      Laplacian_matrix[i,j] = ((0 * image_pad[i,j])+ (1 * image_pad[i,j+1]) +(0 * image_pad[i,j+2])+(1 * image_pad[i+1,j])+ (-4 * image_pad[i+1,j+1])+(1 * image_pad[i+1,j+2]) + (0 * image_pad[i+2,j])+ (1 * image_pad[i+2,j+1]) + (0* image_pad[i+2,j+2]) )\n",
        "  \n",
        "  \n",
        "  return Laplacian_matrix"
      ],
      "execution_count": null,
      "outputs": []
    },
    {
      "cell_type": "code",
      "metadata": {
        "colab": {
          "base_uri": "https://localhost:8080/"
        },
        "id": "oxq9J7kJDduF",
        "outputId": "71281bbe-44e3-4b19-85a7-1643f5ff1daf"
      },
      "source": [
        "Laplacian = LaplcaianFilter(img)"
      ],
      "execution_count": null,
      "outputs": [
        {
          "output_type": "stream",
          "name": "stdout",
          "text": [
            "[[  0   0   0   0   0   0   0   0   0   0]\n",
            " [  0   0  12  53  32 190  53 174  53   0]\n",
            " [  0  57  32  12 227 219 202  32 154   0]\n",
            " [  0  65  85  93 239 251 227  65 158   0]\n",
            " [  0  73 146 146 247 255 235 154 130   0]\n",
            " [  0  97 166 117 231 243 210 117 117   0]\n",
            " [  0 117 190  36 146 178  93  20 170   0]\n",
            " [  0 130 202  73  20  12  53  85 194   0]\n",
            " [  0 146 206 130 117  85 166 182 215   0]\n",
            " [  0   0   0   0   0   0   0   0   0   0]]\n",
            "(10, 10)\n",
            "(8, 8)\n"
          ]
        }
      ]
    },
    {
      "cell_type": "code",
      "metadata": {
        "colab": {
          "base_uri": "https://localhost:8080/"
        },
        "id": "jacNxkPHDg3P",
        "outputId": "8b1f34d0-426d-434a-8f96-f2b01b2f615c"
      },
      "source": [
        "Laplacian"
      ],
      "execution_count": null,
      "outputs": [
        {
          "output_type": "execute_result",
          "data": {
            "text/plain": [
              "array([[  69.,   37., -156.,  342., -456.,  354., -558.,  116.],\n",
              "       [-131.,   38.,  357., -406.,   -6., -277.,  467., -373.],\n",
              "       [ -45.,   -4.,  110., -138.,  -64., -155.,  311., -283.],\n",
              "       [  16., -114.,   19., -117.,  -44.,  -94.,  -69.,  -91.],\n",
              "       [ -32., -114.,  111., -171.,  -98., -152.,   33.,  -51.],\n",
              "       [ -51., -239.,  382., -119., -218.,   89.,  385., -349.],\n",
              "       [ -55., -209.,   96.,  268.,  288.,  144.,  109., -306.],\n",
              "       [-248., -346., -124., -233.,  -45., -344., -262., -484.]])"
            ]
          },
          "metadata": {},
          "execution_count": 116
        }
      ]
    },
    {
      "cell_type": "markdown",
      "metadata": {
        "id": "GNhbq93lH2F-"
      },
      "source": [
        "#Filtre Lineaire"
      ]
    },
    {
      "cell_type": "code",
      "metadata": {
        "id": "t0W98WinUxrk"
      },
      "source": [
        "def LinearFilter(image):\n",
        "  # padding\n",
        "  image_pad =  np.pad(image, [1,1], mode=\"constant\", constant_values=0)\n",
        "  print(image_pad.shape)\n",
        "  #Creation d'une copie de l'image\n",
        "  image_copy = np.copy(image)\n",
        "  # Lienar\n",
        "  Linear_matrix = np.zeros(image_copy.shape)\n",
        "  # Tets 2\n",
        "  Linear_matrix_pad = np.zeros(shape=(13,13))\n",
        "  # Calcule de la valeur du gradient par rapport a X\n",
        "\n",
        "  for i in range(1, image_pad.shape[0] -1):\n",
        "    for j in range(1, image_pad.shape[1] -1):\n",
        "      Linear_matrix[i-1,j-1] = int(image_pad[i,j]/9 + image_pad[i-1,j-1]/9 +image_pad[i-1,j]/9 +image_pad[i-1,j+1]/9 +image_pad[i,j-1]/9 + image_pad[i,j+1]/9 + image_pad[i+1,j-1]/9 + image_pad[i+1,j]/9 +image_pad[i+1,j+1]/9 ) \n",
        "  \n",
        "\n",
        "\n",
        "  \n",
        "  return Linear_matrix\n"
      ],
      "execution_count": null,
      "outputs": []
    },
    {
      "cell_type": "code",
      "metadata": {
        "colab": {
          "base_uri": "https://localhost:8080/"
        },
        "id": "jx0u067o5_SY",
        "outputId": "40abd555-8f47-4d98-a21c-380de228892a"
      },
      "source": [
        "Linear = LinearFilter(img)"
      ],
      "execution_count": null,
      "outputs": [
        {
          "output_type": "stream",
          "name": "stdout",
          "text": [
            "(10, 10)\n"
          ]
        }
      ]
    },
    {
      "cell_type": "code",
      "metadata": {
        "id": "v-C56LayJYQ0",
        "colab": {
          "base_uri": "https://localhost:8080/"
        },
        "outputId": "b719070c-1559-45d8-eea6-404eb62c148c"
      },
      "source": [
        "Linear"
      ],
      "execution_count": null,
      "outputs": [
        {
          "output_type": "execute_result",
          "data": {
            "text/plain": [
              "array([[ 11.,  18.,  40.,  81., 102.,  96.,  74.,  45.],\n",
              "       [ 27.,  45.,  87., 146., 182., 157., 124.,  70.],\n",
              "       [ 50.,  78., 136., 187., 233., 182., 150.,  77.],\n",
              "       [ 70., 109., 163., 202., 237., 195., 157.,  82.],\n",
              "       [ 87., 120., 158., 177., 204., 167., 138.,  78.],\n",
              "       [100., 125., 131., 117., 131., 112., 117.,  78.],\n",
              "       [110., 136., 124.,  88.,  96.,  97., 130.,  96.],\n",
              "       [ 76.,  98.,  83.,  48.,  50.,  64.,  99.,  75.]])"
            ]
          },
          "metadata": {},
          "execution_count": 119
        }
      ]
    },
    {
      "cell_type": "markdown",
      "metadata": {
        "id": "kIIQdEQT6Zfn"
      },
      "source": [
        "#Filtre Gaussien"
      ]
    },
    {
      "cell_type": "code",
      "metadata": {
        "id": "B0lcMIU1fkVh"
      },
      "source": [
        "def FiltreGauss(image):\n",
        "  Gauss_matrix = np.zeros_like(image)\n",
        "  img_pad = np.pad(image, [1,1], mode=\"constant\", constant_values=0)\n",
        "  mmm = np.copy(img_pad)\n",
        "  for i in range(1,mmm.shape[0] - 1):\n",
        "    for j in range(1,mmm.shape[1] - 1):\n",
        "      Gauss_matrix[i-1][j-1] = (mmm[i][j]*1) + (mmm[i][j-1]*0.61) + (mmm[i][j+1]*0.6) + (mmm[i-1][j-1]*0.36) + (mmm[i-1][j]*0.61) + (mmm[i-1][j+1]*0.37)+ (mmm[i+1][j-1]*0.37) + (mmm[i+1][j]*0.6) + (mmm[i+1][j+1]*0.36)\n",
        "\n",
        "  return Gauss_matrix\n",
        "\n"
      ],
      "execution_count": null,
      "outputs": []
    },
    {
      "cell_type": "code",
      "metadata": {
        "id": "Bi0E08Xh-Rxy"
      },
      "source": [
        "Gauss= FiltreGauss(img)"
      ],
      "execution_count": null,
      "outputs": []
    },
    {
      "cell_type": "code",
      "metadata": {
        "colab": {
          "base_uri": "https://localhost:8080/"
        },
        "id": "AkYmNtlM-UdC",
        "outputId": "8dfa51b7-8a14-4bed-b594-afb32f540b0b"
      },
      "source": [
        "plt"
      ],
      "execution_count": null,
      "outputs": [
        {
          "output_type": "execute_result",
          "data": {
            "text/plain": [
              "array([[ 52,  88, 180, 141,  17, 231, 131,   7],\n",
              "       [150, 209, 133, 230, 178,   4,  60, 131],\n",
              "       [  2, 136, 109, 196, 128, 155, 161, 182],\n",
              "       [ 93,  53,   5,   6, 152, 225, 233, 201],\n",
              "       [177, 122, 222, 142,  11,  81, 137, 176],\n",
              "       [246, 146,  69,  79, 153,  27, 253, 187],\n",
              "       [ 42, 208,  36, 132, 149, 180,  78,  41],\n",
              "       [167,  58, 194,  34,  34, 139,  42, 218]], dtype=uint8)"
            ]
          },
          "metadata": {},
          "execution_count": 122
        }
      ]
    },
    {
      "cell_type": "code",
      "source": [],
      "metadata": {
        "id": "k5EuJIH034Dg"
      },
      "execution_count": null,
      "outputs": []
    },
    {
      "cell_type": "markdown",
      "metadata": {
        "id": "1hbn7sOHu9Lm"
      },
      "source": [
        "#Filtre mediane"
      ]
    },
    {
      "cell_type": "code",
      "metadata": {
        "id": "bsC7dTUpvwph"
      },
      "source": [
        "def MedianMatrix(image):\n",
        "  #application du padding\n",
        "  \n",
        "  #Creation d'une copie de l'image\n",
        "  image_copy = np.copy(np.pad(image, [1,1], mode=\"constant\", constant_values=0))\n",
        "  # kernel \n",
        "  #kernel_median = np.zeros(shape=(3,3))\n",
        "  # Creation d'une matrice\n",
        "  median_matrix = np.array(image)\n",
        "  for i in range(1,image.shape[0]-1):\n",
        "    for j in range(1, image.shape[1]-1):\n",
        "      kernel_median = [image[i-1,j-1],image[i-1,j+1],image[i-1,j],image[i,j],image[i,j+1],image[i,j-1],image[i+1,j],image[i+1,j-1],image[i+1,j+1] ] \n",
        "      sorted_kernel = np.sort(kernel_median)\n",
        "      print(sorted_kernel)\n",
        "      print(\"Kernel = \",sorted_kernel[4])\n",
        "      median_matrix[i-1,j-1] = sorted_kernel[4]\n",
        "  \n",
        "  return median_matrix"
      ],
      "execution_count": null,
      "outputs": []
    },
    {
      "cell_type": "code",
      "metadata": {
        "colab": {
          "base_uri": "https://localhost:8080/"
        },
        "id": "V9G1lpJGxfyg",
        "outputId": "08e19cee-5991-4148-e556-b084fd45a6b0"
      },
      "source": [
        "MedianMatrix(img)\n",
        "#np.median(genMedianKernel(img, 0,1))"
      ],
      "execution_count": null,
      "outputs": [
        {
          "output_type": "stream",
          "name": "stdout",
          "text": [
            "[ 0 12 12 32 53 57 65 85 93]\n",
            "Kernel =  53\n",
            "[ 12  12  32  32  53  85  93 227 239]\n",
            "Kernel =  53\n",
            "[ 12  32  53  93 190 219 227 239 251]\n",
            "Kernel =  190\n",
            "[ 32  53 190 202 219 227 227 239 251]\n",
            "Kernel =  219\n",
            "[ 32  53  65 174 190 202 219 227 251]\n",
            "Kernel =  190\n",
            "[ 32  53  53  65 154 158 174 202 227]\n",
            "Kernel =  154\n",
            "[ 12  32  57  65  73  85  93 146 146]\n",
            "Kernel =  73\n",
            "[ 12  32  85  93 146 146 227 239 247]\n",
            "Kernel =  146\n",
            "[ 12  93 146 219 227 239 247 251 255]\n",
            "Kernel =  227\n",
            "[202 219 227 227 235 239 247 251 255]\n",
            "Kernel =  235\n",
            "[ 32  65 154 202 219 227 235 251 255]\n",
            "Kernel =  219\n",
            "[ 32  65 130 154 154 158 202 227 235]\n",
            "Kernel =  154\n",
            "[ 65  73  85  93  97 117 146 146 166]\n",
            "Kernel =  97\n",
            "[ 85  93 117 146 146 166 231 239 247]\n",
            "Kernel =  146\n",
            "[ 93 117 146 231 239 243 247 251 255]\n",
            "Kernel =  239\n",
            "[210 227 231 235 239 243 247 251 255]\n",
            "Kernel =  239\n",
            "[ 65 117 154 210 227 235 243 251 255]\n",
            "Kernel =  227\n",
            "[ 65 117 117 130 154 158 210 227 235]\n",
            "Kernel =  154\n",
            "[ 36  73  97 117 117 146 146 166 190]\n",
            "Kernel =  117\n",
            "[ 36 117 146 146 146 166 190 231 247]\n",
            "Kernel =  146\n",
            "[ 36 117 146 146 178 231 243 247 255]\n",
            "Kernel =  178\n",
            "[ 93 146 178 210 231 235 243 247 255]\n",
            "Kernel =  231\n",
            "[ 20  93 117 154 178 210 235 243 255]\n",
            "Kernel =  178\n",
            "[ 20  93 117 117 130 154 170 210 235]\n",
            "Kernel =  130\n",
            "[ 36  73  97 117 117 130 166 190 202]\n",
            "Kernel =  117\n",
            "[ 20  36  73 117 146 166 190 202 231]\n",
            "Kernel =  146\n",
            "[ 12  20  36  73 117 146 178 231 243]\n",
            "Kernel =  117\n",
            "[ 12  20  53  93 146 178 210 231 243]\n",
            "Kernel =  146\n",
            "[ 12  20  53  85  93 117 178 210 243]\n",
            "Kernel =  93\n",
            "[ 20  53  85  93 117 117 170 194 210]\n",
            "Kernel =  117\n",
            "[ 36  73 117 130 130 146 190 202 206]\n",
            "Kernel =  130\n",
            "[ 20  36  73 117 130 146 190 202 206]\n",
            "Kernel =  130\n",
            "[ 12  20  36  73  85 117 130 146 178]\n",
            "Kernel =  85\n",
            "[ 12  20  53  85  93 117 146 166 178]\n",
            "Kernel =  93\n",
            "[ 12  20  53  85  85  93 166 178 182]\n",
            "Kernel =  85\n",
            "[ 20  53  85  93 166 170 182 194 215]\n",
            "Kernel =  166\n"
          ]
        },
        {
          "output_type": "execute_result",
          "data": {
            "text/plain": [
              "array([[ 53,  53, 190, 219, 190, 154, 174,  53],\n",
              "       [ 73, 146, 227, 235, 219, 154,  32, 154],\n",
              "       [ 97, 146, 239, 239, 227, 154,  65, 158],\n",
              "       [117, 146, 178, 231, 178, 130, 154, 130],\n",
              "       [117, 146, 117, 146,  93, 117, 117, 117],\n",
              "       [130, 130,  85,  93,  85, 166,  20, 170],\n",
              "       [130, 202,  73,  20,  12,  53,  85, 194],\n",
              "       [146, 206, 130, 117,  85, 166, 182, 215]], dtype=uint8)"
            ]
          },
          "metadata": {},
          "execution_count": 124
        }
      ]
    },
    {
      "cell_type": "code",
      "metadata": {
        "id": "MpXNYTxkBcD9"
      },
      "source": [],
      "execution_count": null,
      "outputs": []
    }
  ]
}