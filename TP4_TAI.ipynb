{
  "nbformat": 4,
  "nbformat_minor": 0,
  "metadata": {
    "colab": {
      "provenance": [],
      "include_colab_link": true
    },
    "kernelspec": {
      "name": "python3",
      "display_name": "Python 3"
    },
    "language_info": {
      "name": "python"
    }
  },
  "cells": [
    {
      "cell_type": "markdown",
      "metadata": {
        "id": "view-in-github",
        "colab_type": "text"
      },
      "source": [
        "<a href=\"https://colab.research.google.com/github/SpeedKillsx/TPs-Traitement-et-Analyse-D-images/blob/main/TP4_TAI.ipynb\" target=\"_parent\"><img src=\"https://colab.research.google.com/assets/colab-badge.svg\" alt=\"Open In Colab\"/></a>"
      ]
    },
    {
      "cell_type": "code",
      "execution_count": null,
      "metadata": {
        "id": "ILNk6l3YNp_t"
      },
      "outputs": [],
      "source": [
        "import cv2 as cv\n",
        "import numpy as np\n",
        "import math\n",
        "import matplotlib.pyplot as plt\n",
        "from collections import deque"
      ]
    },
    {
      "cell_type": "code",
      "source": [
        "image_bin = np.array([\n",
        "                        [0,0,0,0,0],\n",
        "                        [0,1,1,1,0],\n",
        "                        [0,1,1,1,0],\n",
        "                        [0,0,0,0,0],\n",
        "                        [0,0,0,0,0]\n",
        "])"
      ],
      "metadata": {
        "id": "I-TZKyw7N0XZ"
      },
      "execution_count": null,
      "outputs": []
    },
    {
      "cell_type": "code",
      "source": [
        "image_bin"
      ],
      "metadata": {
        "colab": {
          "base_uri": "https://localhost:8080/"
        },
        "id": "f-c-LfWrOKUj",
        "outputId": "5cc5c37a-f3db-485b-dbbf-595f63d48146"
      },
      "execution_count": null,
      "outputs": [
        {
          "output_type": "execute_result",
          "data": {
            "text/plain": [
              "array([[0, 0, 0, 0, 0],\n",
              "       [0, 1, 1, 1, 0],\n",
              "       [0, 1, 1, 1, 0],\n",
              "       [0, 0, 0, 0, 0],\n",
              "       [0, 0, 0, 0, 0]])"
            ]
          },
          "metadata": {},
          "execution_count": 681
        }
      ]
    },
    {
      "cell_type": "code",
      "source": [
        "plt.imshow(image_bin, cmap=\"gray\")"
      ],
      "metadata": {
        "colab": {
          "base_uri": "https://localhost:8080/",
          "height": 282
        },
        "id": "Ryw2-2O6ON5y",
        "outputId": "844f250b-dbf9-41ec-c296-d22933ac67c5"
      },
      "execution_count": null,
      "outputs": [
        {
          "output_type": "execute_result",
          "data": {
            "text/plain": [
              "<matplotlib.image.AxesImage at 0x7fe4f62de290>"
            ]
          },
          "metadata": {},
          "execution_count": 682
        },
        {
          "output_type": "display_data",
          "data": {
            "image/png": "[encoded data removed]",
            "text/plain": [
              "<Figure size 432x288 with 1 Axes>"
            ]
          },
          "metadata": {
            "needs_background": "light"
          }
        }
      ]
    },
    {
      "cell_type": "code",
      "source": [
        "# paramétres de MORAVEC\n",
        "S= 2  # Seuil\n",
        "F= 3  # Taille de la fenêtre\n",
        "U= [[1,0],[1,1],[0,1],[-1,1],[-1,0],[-1,-1],[0,-1],[1,-1]]# Déplacements\n",
        "FN = [[-1,-1],[-1,0],[-1,1],[0,-1],[0,0],[0,1],[1,-1],[1,0],[1,1]] #a et b de la fenêtre \n",
        "\n",
        "#qFN= deque(FN)\n"
      ],
      "metadata": {
        "id": "5ilSc500OMpr"
      },
      "execution_count": null,
      "outputs": []
    },
    {
      "cell_type": "markdown",
      "source": [
        "# Algorithme de Moravec"
      ],
      "metadata": {
        "id": "fMErhE3WGM_2"
      }
    },
    {
      "cell_type": "markdown",
      "source": [
        "## Calcule du vecteur V pour chaque pixel"
      ],
      "metadata": {
        "id": "VCkHg5jzGQAg"
      }
    },
    {
      "cell_type": "code",
      "source": [
        "\n",
        "def v(i,j,U,FN):\n",
        "  nu=0\n",
        "  V = np.zeros(8) # vecteur de\n",
        "  \n",
        "  for Udep in U:\n",
        "    u1,v1=Udep\n",
        "    var=0\n",
        "    for FNdep in FN:\n",
        "      a1,b1=FNdep\n",
        "      x1=i+u1+a1\n",
        "      y1=j+v1+b1\n",
        "      x2=i+a1\n",
        "      y2=j+b1\n",
        "      var=var+(( image[x1,y1] - image[x2,y2] )**2)\n",
        "    V[nu]=var  \n",
        "    nu=nu+1 \n",
        "\n",
        "  return np.min(V) # je retourne le minimum de chaque vecteur v de chaque pixel"
      ],
      "metadata": {
        "id": "h6M6V9VTOUay"
      },
      "execution_count": null,
      "outputs": []
    },
    {
      "cell_type": "markdown",
      "source": [
        "## Calcul de la carte de Coins"
      ],
      "metadata": {
        "id": "Bn-lpePQGU0W"
      }
    },
    {
      "cell_type": "code",
      "source": [
        "def CarteDesCoins(image):\n",
        "  C = np.zeros_like(image)\n",
        "  for i in range(2,C.shape[0]-2):\n",
        "    for j in range(2,C.shape[1]-2):\n",
        "      C[i, j] = v(i,j,U,FN)\n",
        "  return C"
      ],
      "metadata": {
        "id": "uEDRTzNACztf"
      },
      "execution_count": null,
      "outputs": []
    },
    {
      "cell_type": "markdown",
      "source": [
        "## Implementation de l'algorithme de Moravec"
      ],
      "metadata": {
        "id": "oV3d6GzVGYbu"
      }
    },
    {
      "cell_type": "code",
      "source": [
        "def MoravecAlgorithm(image,seuil, U,FN):\n",
        "  Moravec_image = np.zeros_like(image)\n",
        "  Cmin = np.zeros_like(image)\n",
        "  Cmin  = CarteDesCoins(image)\n",
        "  for i in range(0,image.shape[0]):\n",
        "    for j in range(0,image.shape[1]):\n",
        "      if Cmin[i,j] >=seuil:\n",
        "        Moravec_image[i,j] = 1\n",
        "  return Moravec_image"
      ],
      "metadata": {
        "id": "BHl4DQ1TDTyv"
      },
      "execution_count": null,
      "outputs": []
    },
    {
      "cell_type": "code",
      "source": [
        "image = cv.imread(\"/content/drive/MyDrive/TAI_ressources/TP2/im2.png\",0)\n",
        "image_moravec = np.zeros_like(image)"
      ],
      "metadata": {
        "id": "r7rzK7DSWMM4"
      },
      "execution_count": null,
      "outputs": []
    },
    {
      "cell_type": "code",
      "source": [
        "image.shape"
      ],
      "metadata": {
        "colab": {
          "base_uri": "https://localhost:8080/"
        },
        "id": "we6NimBUpLxl",
        "outputId": "bda4f4b6-9a49-41f6-d366-a414aa5db199"
      },
      "execution_count": null,
      "outputs": [
        {
          "output_type": "execute_result",
          "data": {
            "text/plain": [
              "(320, 452)"
            ]
          },
          "metadata": {},
          "execution_count": 688
        }
      ]
    },
    {
      "cell_type": "code",
      "source": [
        "plt.imshow(image, cmap=\"gray\")"
      ],
      "metadata": {
        "id": "ZIwthULmVv98",
        "colab": {
          "base_uri": "https://localhost:8080/",
          "height": 286
        },
        "outputId": "cf231b0b-29bc-4f66-cbf8-986de1d2f88b"
      },
      "execution_count": null,
      "outputs": [
        {
          "output_type": "execute_result",
          "data": {
            "text/plain": [
              "<matplotlib.image.AxesImage at 0x7fe4f6243990>"
            ]
          },
          "metadata": {},
          "execution_count": 689
        },
        {
          "output_type": "display_data",
          "data": {
            "image/png": "[encoded data removed]",
            "text/plain": [
              "<Figure size 432x288 with 1 Axes>"
            ]
          },
          "metadata": {
            "needs_background": "light"
          }
        }
      ]
    },
    {
      "cell_type": "code",
      "source": [
        "image_moravec = MoravecAlgorithm(image,S,U,FN)"
      ],
      "metadata": {
        "colab": {
          "base_uri": "https://localhost:8080/"
        },
        "id": "y7UnxPRdEXgB",
        "outputId": "88ae235e-cabe-48bd-c766-5a44526c491c"
      },
      "execution_count": null,
      "outputs": [
        {
          "output_type": "stream",
          "name": "stderr",
          "text": [
            "/usr/local/lib/python3.7/dist-packages/ipykernel_launcher.py:15: RuntimeWarning: overflow encountered in ubyte_scalars\n",
            "  from ipykernel import kernelapp as app\n"
          ]
        }
      ]
    },
    {
      "cell_type": "code",
      "source": [
        "plt.imshow(image_moravec, cmap=\"gray\")"
      ],
      "metadata": {
        "colab": {
          "base_uri": "https://localhost:8080/",
          "height": 286
        },
        "id": "KwHCoFUIEccg",
        "outputId": "23b39c83-bc6e-4a0a-8902-a96b4c6f7758"
      },
      "execution_count": null,
      "outputs": [
        {
          "output_type": "execute_result",
          "data": {
            "text/plain": [
              "<matplotlib.image.AxesImage at 0x7fe4f622e290>"
            ]
          },
          "metadata": {},
          "execution_count": 691
        },
        {
          "output_type": "display_data",
          "data": {
            "image/png": "[encoded data removed]",
            "text/plain": [
              "<Figure size 432x288 with 1 Axes>"
            ]
          },
          "metadata": {
            "needs_background": "light"
          }
        }
      ]
    },
    {
      "cell_type": "markdown",
      "source": [
        "#Algorithme de Harris"
      ],
      "metadata": {
        "id": "ZCoC1TIjKiP9"
      }
    },
    {
      "cell_type": "code",
      "source": [
        "A= [[-1,2,0],[0,3,4],[0,0,7]]\n",
        "B=[[-1,2,2],[2,2,-1],[1,-2,1]]\n",
        "val1, vec1 = np.linalg.eig(A)\n",
        "val2, vec2 = np.linalg.eig(A)"
      ],
      "metadata": {
        "id": "n7BnOOFVFs7U"
      },
      "execution_count": null,
      "outputs": []
    },
    {
      "cell_type": "code",
      "source": [
        "val1"
      ],
      "metadata": {
        "colab": {
          "base_uri": "https://localhost:8080/"
        },
        "id": "F4RVzoZOR1ps",
        "outputId": "59e4d97f-dd6a-462d-d721-f1d674f7694e"
      },
      "execution_count": null,
      "outputs": [
        {
          "output_type": "execute_result",
          "data": {
            "text/plain": [
              "array([-1.,  3.,  7.])"
            ]
          },
          "metadata": {},
          "execution_count": 700
        }
      ]
    },
    {
      "cell_type": "code",
      "source": [
        "vec1"
      ],
      "metadata": {
        "colab": {
          "base_uri": "https://localhost:8080/"
        },
        "id": "H09QzpEgLiDk",
        "outputId": "2a90945d-03ea-4ef4-add6-3d47bddbc7f2"
      },
      "execution_count": null,
      "outputs": [
        {
          "output_type": "execute_result",
          "data": {
            "text/plain": [
              "array([[1.        , 0.4472136 , 0.17407766],\n",
              "       [0.        , 0.89442719, 0.69631062],\n",
              "       [0.        , 0.        , 0.69631062]])"
            ]
          },
          "metadata": {},
          "execution_count": 698
        }
      ]
    },
    {
      "cell_type": "code",
      "source": [
        "val2"
      ],
      "metadata": {
        "colab": {
          "base_uri": "https://localhost:8080/"
        },
        "id": "U204LzYgR4d7",
        "outputId": "586b9166-2ecb-4fd8-c9ef-4ff6e0d75d92"
      },
      "execution_count": null,
      "outputs": [
        {
          "output_type": "execute_result",
          "data": {
            "text/plain": [
              "array([-1.,  3.,  7.])"
            ]
          },
          "metadata": {},
          "execution_count": 701
        }
      ]
    },
    {
      "cell_type": "code",
      "source": [
        "vec2"
      ],
      "metadata": {
        "colab": {
          "base_uri": "https://localhost:8080/"
        },
        "id": "N5kBPZeOLsnC",
        "outputId": "ef3b4b07-0b9b-4291-dbe2-992316476546"
      },
      "execution_count": null,
      "outputs": [
        {
          "output_type": "execute_result",
          "data": {
            "text/plain": [
              "array([[1.        , 0.4472136 , 0.17407766],\n",
              "       [0.        , 0.89442719, 0.69631062],\n",
              "       [0.        , 0.        , 0.69631062]])"
            ]
          },
          "metadata": {},
          "execution_count": 699
        }
      ]
    },
    {
      "cell_type": "code",
      "source": [],
      "metadata": {
        "id": "sounNsdaL4MI"
      },
      "execution_count": null,
      "outputs": []
    }
  ]
}