{
  "cells": [
    {
      "cell_type": "markdown",
      "metadata": {
        "id": "view-in-github",
        "colab_type": "text"
      },
      "source": [
        "<a href=\"https://colab.research.google.com/github/SpeedKillsx/TPs-Traitement-et-Analyse-D-images/blob/main/TP5_Espace_de_couleurs_et_segmentation.ipynb\" target=\"_parent\"><img src=\"https://colab.research.google.com/assets/colab-badge.svg\" alt=\"Open In Colab\"/></a>"
      ]
    },
    {
      "cell_type": "markdown",
      "metadata": {
        "id": "MssueIgnZvD3"
      },
      "source": [
        "# TP 5 Espaces de couleurs et segmantation\n",
        "\n",
        "Dans ce TP, nous aimerions implémenter les changements d'espace de couleurs: niveaux de gris, RVB, TSV, XYZ. Nous aimerions ensuite appliquer une segmentation de l'image à travers des seuillages."
      ]
    },
    {
      "cell_type": "code",
      "execution_count": null,
      "metadata": {
        "id": "j1CY0BkAZvD7"
      },
      "outputs": [],
      "source": [
        "import cv2\n",
        "import numpy as np\n",
        "from matplotlib import pyplot as plt\n",
        "import math"
      ]
    },
    {
      "cell_type": "code",
      "execution_count": null,
      "metadata": {
        "id": "DQDxNoXZZvD9",
        "outputId": "6312361a-662a-4124-b469-5972b2872d5c"
      },
      "outputs": [
        {
          "data": {
            "text/plain": [
              "True"
            ]
          },
          "execution_count": 73,
          "metadata": {},
          "output_type": "execute_result"
        },
        {
          "data": {
            "image/png": "[encoded data removed]",
            "text/plain": [
              "<Figure size 432x288 with 1 Axes>"
            ]
          },
          "metadata": {
            "needs_background": "light"
          },
          "output_type": "display_data"
        }
      ],
      "source": [
        "# creer l'image\n",
        "# dans cette première image, nous changeons le pixel 0\n",
        "# Nous voulons en fait, voir la difference en plt et cv2\n",
        "height=3\n",
        "width=3\n",
        "I = np.zeros((height,width,3), np.uint8)\n",
        "\n",
        "# Remplir l'image\n",
        "# notons que :\n",
        "# pour opencv, les canaux sont: BVR\n",
        "# pour metplot, les canaux sont: RVB\n",
        "# cannal B\n",
        "I[0,0,0]=0 ; I[0,1,0]=137 ; I[0,2,0]=81 \n",
        "I[1,0,0]=115 ; I[1,1,0]=145 ; I[1,2,0]=127\n",
        "I[2,0,0]=80 ; I[2,1,0]=89 ; I[2,2,0]=90\n",
        "\n",
        "# cannal V\n",
        "I[0,0,1]=0 ; I[0,1,1]=119 ; I[0,2,1]=61  \n",
        "I[1,0,1]=99; I[1,1,1]=129; I[1,2,1]=109\n",
        "I[2,0,1]=66 ; I[2,1,1]=75 ; I[2,2,1]=74\n",
        "\n",
        "# Cannal R\n",
        "I[0,0,2]=255; I[0,1,2]=53; I[0,2,2]=0\n",
        "I[1,0,2]=37 ; I[1,1,2]=67; I[1,2,2]=47\n",
        "I[2,0,2]=5; I[2,1,2]=14 ; I[2,2,2]=15\n",
        "\n",
        "plt.imshow(I)\n",
        "# sauvegarder en opencv pour voir la difference avec plt\n",
        "Icv=np.uint8(I)\n",
        "cv2.imwrite(\"i.png\",Icv)\n",
        "# remarquer l'image résultant de la sauvegarde"
      ]
    },
    {
      "cell_type": "markdown",
      "metadata": {
        "id": "OZoEGpS_ZvD_"
      },
      "source": [
        "image sauvegardé avec opencv, remarquer la perte d'informaiton dûe à la compression ainsi que le premier pixel bleu en plt, rouge en opencv\n",
        "<img src=\"i.png\" alt=\"drawing\" width=\"100\"/>"
      ]
    },
    {
      "cell_type": "code",
      "execution_count": null,
      "metadata": {
        "scrolled": true,
        "id": "2slWav6QZvD_",
        "outputId": "d8616ffe-55f2-4f6a-94c7-efe4b0cd6b32"
      },
      "outputs": [
        {
          "data": {
            "text/plain": [
              "array([[[124, 106,  40],\n",
              "        [137, 119,  53],\n",
              "        [ 81,  61,   0]],\n",
              "\n",
              "       [[115,  99,  37],\n",
              "        [145, 129,  67],\n",
              "        [127, 109,  47]],\n",
              "\n",
              "       [[ 80,  66,   5],\n",
              "        [ 89,  75,  14],\n",
              "        [ 90,  74,  15]]], dtype=uint8)"
            ]
          },
          "execution_count": 74,
          "metadata": {},
          "output_type": "execute_result"
        }
      ],
      "source": [
        "# changer la valeur du premier pixel\n",
        "# dans ce TP nous utilisons la representation de opencv \n",
        "# ceci car nous voulons comparer avec les changement de caneaux d'opencv\n",
        "I[0,0,0:]=[124,106,40]\n",
        "I"
      ]
    },
    {
      "cell_type": "markdown",
      "metadata": {
        "id": "v5Wzp9FPZvD_"
      },
      "source": [
        "# Convertir en niveaux de gris"
      ]
    },
    {
      "cell_type": "code",
      "execution_count": null,
      "metadata": {
        "id": "xkLuuOtEZvEA",
        "outputId": "d6f5df30-baad-426c-8ffe-06f0d9cb4c6a"
      },
      "outputs": [
        {
          "data": {
            "text/plain": [
              "array([[ 90.  , 103.  ,  47.33],\n",
              "       [ 83.67, 113.67,  94.33],\n",
              "       [ 50.33,  59.33,  59.67]])"
            ]
          },
          "execution_count": 75,
          "metadata": {},
          "output_type": "execute_result"
        },
        {
          "data": {
            "image/png": "[encoded data removed]",
            "text/plain": [
              "<Figure size 432x288 with 1 Axes>"
            ]
          },
          "metadata": {
            "needs_background": "light"
          },
          "output_type": "display_data"
        }
      ],
      "source": [
        "# convert I from RGB to gray with alpha=1/3 beta =1/3 and gamma =1/3\n",
        "alpha=1/3\n",
        "beta=1/3\n",
        "gamma=1/3\n",
        "Ig=(alpha*I[:,:,0]+beta*I[:,:,1]+gamma*I[:,:,2])\n",
        "plt.imshow(Ig,cmap='gray')\n",
        "np.round(Ig,2)"
      ]
    },
    {
      "cell_type": "code",
      "execution_count": null,
      "metadata": {
        "id": "Str7O34mZvEB",
        "outputId": "1aa15818-28d5-4e01-bf30-e7e26bd1b13e"
      },
      "outputs": [
        {
          "data": {
            "text/plain": [
              "array([[ 88.32, 101.32,  45.04],\n",
              "       [ 82.29, 112.29,  92.51],\n",
              "       [ 49.36,  58.36,  58.18]])"
            ]
          },
          "execution_count": 76,
          "metadata": {},
          "output_type": "execute_result"
        },
        {
          "data": {
            "image/png": "[encoded data removed]",
            "text/plain": [
              "<Figure size 432x288 with 1 Axes>"
            ]
          },
          "metadata": {
            "needs_background": "light"
          },
          "output_type": "display_data"
        }
      ],
      "source": [
        "# convertir I de RVB à niveau de gris avec :\n",
        "alpha=0.299 \n",
        "beta =0.587 \n",
        "gamma =0.114\n",
        "Ig=(alpha*I[:,:,2]+beta*I[:,:,1]+gamma*I[:,:,0])\n",
        "plt.imshow(Ig,cmap='gray')\n",
        "np.round(Ig,2)"
      ]
    },
    {
      "cell_type": "code",
      "execution_count": null,
      "metadata": {
        "id": "dl5Gk_E6ZvEC",
        "outputId": "9103008d-2830-4123-80ff-eaf82fba44a7"
      },
      "outputs": [
        {
          "data": {
            "text/plain": [
              "array([[ 88, 101,  45],\n",
              "       [ 82, 112,  93],\n",
              "       [ 49,  58,  58]], dtype=uint8)"
            ]
          },
          "execution_count": 77,
          "metadata": {},
          "output_type": "execute_result"
        },
        {
          "data": {
            "image/png": "[encoded data removed]",
            "text/plain": [
              "<Figure size 432x288 with 1 Axes>"
            ]
          },
          "metadata": {
            "needs_background": "light"
          },
          "output_type": "display_data"
        }
      ],
      "source": [
        "# convertir en utilisant opencv\n",
        "Igcv = cv2.cvtColor(Icv, cv2.COLOR_BGR2GRAY)\n",
        "plt.imshow(Igcv, cmap='gray')\n",
        "np.round(Igcv,2)"
      ]
    },
    {
      "cell_type": "code",
      "execution_count": null,
      "metadata": {
        "id": "V7TQ6FmKZvEC"
      },
      "outputs": [],
      "source": [
        "# afficher en utilisant opencv\n",
        "cv2.imshow('',Igcv)\n",
        "cv2.waitKey(0)\n",
        "cv2.destroyAllWindows()"
      ]
    },
    {
      "cell_type": "markdown",
      "metadata": {
        "id": "GouLa171ZvED"
      },
      "source": [
        "# Convert to HSV space"
      ]
    },
    {
      "cell_type": "code",
      "execution_count": null,
      "metadata": {
        "id": "polX8qexZvED",
        "outputId": "0d0caff3-6df1-49c6-c675-bb7ec6036071"
      },
      "outputs": [
        {
          "data": {
            "text/plain": [
              "array([[80, 66,  5],\n",
              "       [89, 75, 14],\n",
              "       [81, 61,  0]], dtype=uint8)"
            ]
          },
          "execution_count": 79,
          "metadata": {},
          "output_type": "execute_result"
        }
      ],
      "source": [
        "# Nous utiliserons la fonction min pour convertir les cannaux\n",
        "I.min(0)\n",
        "# cela donne le min tel que:\n",
        "# la première valeur (line 0 colone 0 du resultat)\n",
        "# = min de toutes les lignes de la colone 0 canal 0\n",
        "# la deuxieme valeur (line 0 colone 1 du resultat)\n",
        "# = min de toutes les lignes de la colone 1 canal 0\n",
        "\n",
        "# vous pouvez également vérifier ce que signifie I.min(1) et I.min(2) "
      ]
    },
    {
      "cell_type": "code",
      "execution_count": null,
      "metadata": {
        "id": "6zru3HtvZvEE",
        "outputId": "a36e1cc2-7566-4a0f-e00d-f5c5430f0f6e"
      },
      "outputs": [
        {
          "data": {
            "text/plain": [
              "array([[ 90.  , 103.  ,  47.33],\n",
              "       [ 83.67, 113.67,  94.33],\n",
              "       [ 50.33,  59.33,  59.67]])"
            ]
          },
          "execution_count": 80,
          "metadata": {},
          "output_type": "execute_result"
        }
      ],
      "source": [
        "# convertir I de RVB to TSV \n",
        "I=np.double(I)\n",
        "\n",
        "Ihsv = np.zeros((height,width,3), np.double)\n",
        "alpha=1/3\n",
        "beta=1/3\n",
        "gamma=1/3\n",
        "\n",
        "v=(alpha*I[:,:,0]+beta*I[:,:,1]+gamma*I[:,:,2])\n",
        "np.round(v,2)"
      ]
    },
    {
      "cell_type": "code",
      "execution_count": null,
      "metadata": {
        "id": "7lkBEOW0ZvEE",
        "outputId": "f4300688-a2a4-4951-a88c-45819de232f8"
      },
      "outputs": [
        {
          "data": {
            "text/plain": [
              "array([[0.56, 0.49, 1.  ],\n",
              "       [0.56, 0.41, 0.5 ],\n",
              "       [0.9 , 0.76, 0.75]])"
            ]
          },
          "execution_count": 81,
          "metadata": {},
          "output_type": "execute_result"
        }
      ],
      "source": [
        "s=1-(3*I.min(2)/(I[:,:,0]+I[:,:,1]+I[:,:,2]))\n",
        "np.round(s,2)"
      ]
    },
    {
      "cell_type": "code",
      "execution_count": null,
      "metadata": {
        "id": "51SskYB1ZvEF",
        "outputId": "7752368b-d0f6-4a26-c2d6-43d907209e1b"
      },
      "outputs": [
        {
          "data": {
            "text/plain": [
              "array([[2.94, 2.94, 2.9 ],\n",
              "       [2.95, 2.95, 2.93],\n",
              "       [2.97, 2.97, 2.94]])"
            ]
          },
          "execution_count": 82,
          "metadata": {},
          "output_type": "execute_result"
        }
      ],
      "source": [
        "#theta\n",
        "nom=(I[:,:,2]-I[:,:,0]+I[:,:,2]-I[:,:,1])\n",
        "denom=(2*np.sqrt(np.power(I[:,:,2]-I[:,:,1], 2*np.ones((height,width)))+(I[:,:,2]-I[:,:,0])*(I[:,:,1]-I[:,:,0])))\n",
        "theta=np.arccos(nom/denom)\n",
        "stemp=theta\n",
        "np.round(stemp,2)"
      ]
    },
    {
      "cell_type": "code",
      "execution_count": null,
      "metadata": {
        "id": "ExS7lmURZvEF",
        "outputId": "5182cf58-87c8-4de6-90df-4b772bd566d3"
      },
      "outputs": [
        {
          "data": {
            "text/plain": [
              "array([[3.35, 3.35, 3.38],\n",
              "       [3.34, 3.34, 3.36],\n",
              "       [3.32, 3.32, 3.35]])"
            ]
          },
          "execution_count": 83,
          "metadata": {},
          "output_type": "execute_result"
        }
      ],
      "source": [
        "for i in range(np.shape(I)[0]):\n",
        "    for j in range(np.shape(I)[1]):\n",
        "        if I[i,j,0]>I[i,j,1]:\n",
        "            #stemp[i,j]=2*math.pi-theta[i,j]\n",
        "            #stemp[i,j]\n",
        "            a=2*math.pi-theta[i,j]\n",
        "            stemp[i,j]=a\n",
        "h=stemp\n",
        "np.round(h,2)"
      ]
    },
    {
      "cell_type": "code",
      "execution_count": null,
      "metadata": {
        "id": "TmW8meusZvEF",
        "outputId": "251aae7d-69f8-4b6f-c26f-2491b78d8d21"
      },
      "outputs": [
        {
          "data": {
            "text/plain": [
              "array([[[  3.35,   0.56,  90.  ],\n",
              "        [  3.35,   0.49, 103.  ],\n",
              "        [  3.38,   1.  ,  47.33]],\n",
              "\n",
              "       [[  3.34,   0.56,  83.67],\n",
              "        [  3.34,   0.41, 113.67],\n",
              "        [  3.36,   0.5 ,  94.33]],\n",
              "\n",
              "       [[  3.32,   0.9 ,  50.33],\n",
              "        [  3.32,   0.76,  59.33],\n",
              "        [  3.35,   0.75,  59.67]]])"
            ]
          },
          "execution_count": 84,
          "metadata": {},
          "output_type": "execute_result"
        }
      ],
      "source": [
        "# final HSV\n",
        "Ihsv[:,:,0]=h\n",
        "Ihsv[:,:,1]=s\n",
        "Ihsv[:,:,2]=v\n",
        "np.round(Ihsv,2)"
      ]
    },
    {
      "cell_type": "code",
      "execution_count": null,
      "metadata": {
        "id": "qLAWksfbZvEG",
        "outputId": "27076e05-8f77-4da3-d640-a44216edadb2"
      },
      "outputs": [
        {
          "data": {
            "text/plain": [
              "array([[[ 96, 173, 124],\n",
              "        [ 96, 156, 137],\n",
              "        [ 97, 255,  81]],\n",
              "\n",
              "       [[ 96, 173, 115],\n",
              "        [ 96, 137, 145],\n",
              "        [ 97, 161, 127]],\n",
              "\n",
              "       [[ 96, 239,  80],\n",
              "        [ 96, 215,  89],\n",
              "        [ 96, 212,  90]]], dtype=uint8)"
            ]
          },
          "execution_count": 85,
          "metadata": {},
          "output_type": "execute_result"
        }
      ],
      "source": [
        "# convertir en utilisant opencv\n",
        "# revenir vers uint8\n",
        "cv2.cvtColor(Icv, cv2.COLOR_BGR2HSV)\n",
        "# Le résultat sera different, voir :\n",
        "#  https://docs.opencv.org/2.4/modules/imgproc/doc/miscellaneous_transformations.html#cvtcolor"
      ]
    },
    {
      "cell_type": "markdown",
      "metadata": {
        "id": "0s2ueQ50ZvEG"
      },
      "source": [
        "# RGB to XYZ"
      ]
    },
    {
      "cell_type": "code",
      "execution_count": null,
      "metadata": {
        "id": "rv9VIzV2ZvEG",
        "outputId": "03e747d9-3428-4c68-8bef-b06eb9125fb1"
      },
      "outputs": [
        {
          "data": {
            "text/plain": [
              "array([[[ 76.7836,  93.268 , 131.2692],\n",
              "        [ 89.1401, 106.268 , 145.4262],\n",
              "        [ 36.4341,  49.4754,  84.2617]],\n",
              "\n",
              "       [[ 71.4187,  86.974 , 121.8224],\n",
              "        [ 99.9337, 116.974 , 154.4924],\n",
              "        [ 81.2847,  97.1184, 134.6134]],\n",
              "\n",
              "       [[ 40.1036,  54.0422,  84.0037],\n",
              "        [ 48.6581,  63.0422,  93.8047],\n",
              "        [ 48.8934,  62.6118,  94.6553]]])"
            ]
          },
          "execution_count": 86,
          "metadata": {},
          "output_type": "execute_result"
        }
      ],
      "source": [
        "XYZ = np.zeros((np.shape(I)[0],np.shape(I)[1]), np.double)\n",
        "Ixyz = np.zeros((np.shape(I)[0],np.shape(I)[1],3), np.double)\n",
        "\n",
        "# you should always remember that cv had BGR representation instead of RGB\n",
        "XYZ[0,0]=0.1805 \n",
        "XYZ[0,1]=0.3576\n",
        "XYZ[0,2]=0.4124\n",
        "XYZ[1,0]=0.0722\n",
        "XYZ[1,1]=0.7152\n",
        "XYZ[1,2]= 0.2126\n",
        "XYZ[2,0]= 0.9505\n",
        "XYZ[2,1]=0.1192\n",
        "XYZ[2,2]= 0.0193\n",
        "\n",
        "for i in range(np.shape(I)[0]):\n",
        "    for j in range(np.shape(I)[1]):        \n",
        "        a=np.dot(XYZ,I[i,j,:])\n",
        "        Ixyz[i,j,0]=a[0]\n",
        "        Ixyz[i,j,1]=a[1]\n",
        "        Ixyz[i,j,2]=a[2]\n",
        "\n",
        "Ixyz"
      ]
    },
    {
      "cell_type": "code",
      "execution_count": null,
      "metadata": {
        "id": "PZMcuaY7ZvEH",
        "outputId": "a34e8f0a-27c9-4f76-bfed-515dc2ab7c9e"
      },
      "outputs": [
        {
          "data": {
            "text/plain": [
              "array([[[ 77,  93, 131],\n",
              "        [ 89, 106, 145],\n",
              "        [ 36,  49,  84]],\n",
              "\n",
              "       [[ 71,  87, 122],\n",
              "        [100, 117, 154],\n",
              "        [ 81,  97, 135]],\n",
              "\n",
              "       [[ 40,  54,  84],\n",
              "        [ 49,  63,  94],\n",
              "        [ 49,  63,  95]]], dtype=uint8)"
            ]
          },
          "execution_count": 87,
          "metadata": {},
          "output_type": "execute_result"
        }
      ],
      "source": [
        " # convertir en utilisant opencv\n",
        "Icv=np.uint8(I)\n",
        "cv2.cvtColor(Icv, cv2.COLOR_BGR2XYZ)"
      ]
    },
    {
      "cell_type": "markdown",
      "metadata": {
        "id": "j5Bz7qmEZvEH"
      },
      "source": [
        "# Segmentation et seuillage"
      ]
    },
    {
      "cell_type": "code",
      "execution_count": null,
      "metadata": {
        "id": "icxZDrxDZvEH",
        "outputId": "827afd40-7539-4fbc-8d91-6c8ac053ce95"
      },
      "outputs": [
        {
          "data": {
            "image/png": "[encoded data removed]",
            "text/plain": [
              "<Figure size 432x288 with 6 Axes>"
            ]
          },
          "metadata": {},
          "output_type": "display_data"
        }
      ],
      "source": [
        "img = cv2.imread('appleorange.jpg',0)\n",
        "plt.imshow(img)\n",
        "ret,thresh1 = cv2.threshold(img,127,255,cv2.THRESH_BINARY)\n",
        "ret,thresh2 = cv2.threshold(img,127,255,cv2.THRESH_BINARY_INV)\n",
        "ret,thresh3 = cv2.threshold(img,127,255,cv2.THRESH_TRUNC)\n",
        "ret,thresh4 = cv2.threshold(img,127,255,cv2.THRESH_TOZERO)\n",
        "ret,thresh5 = cv2.threshold(img,127,255,cv2.THRESH_TOZERO_INV)\n",
        "titles = ['Original Image','BINARY','BINARY_INV','TRUNC','TOZERO','TOZERO_INV']\n",
        "images = [img, thresh1, thresh2, thresh3, thresh4, thresh5]\n",
        "for i in range(6):\n",
        "    plt.subplot(2,3,i+1),plt.imshow(images[i],'gray',vmin=0,vmax=255)\n",
        "    plt.title(titles[i])\n",
        "    plt.xticks([]),plt.yticks([])"
      ]
    },
    {
      "cell_type": "code",
      "execution_count": null,
      "metadata": {
        "id": "eZDTQDQsZvEH",
        "outputId": "b1a3be16-9fe1-4808-b9c4-dfb8fee7d4ce"
      },
      "outputs": [
        {
          "data": {
            "text/plain": [
              "<matplotlib.image.AxesImage at 0x1946a48c160>"
            ]
          },
          "execution_count": 89,
          "metadata": {},
          "output_type": "execute_result"
        },
        {
          "data": {
            "image/png": "[encoded data removed]",
            "text/plain": [
              "<Figure size 432x288 with 1 Axes>"
            ]
          },
          "metadata": {
            "needs_background": "light"
          },
          "output_type": "display_data"
        }
      ],
      "source": [
        "# inverser l'image \n",
        "imgINV= abs(thresh1 - 255)\n",
        "plt.imshow(imgINV, cmap='gray')"
      ]
    },
    {
      "cell_type": "code",
      "execution_count": null,
      "metadata": {
        "id": "woKrpudTZvEI",
        "outputId": "9457672b-772b-496b-94cf-db9199f2ccfa"
      },
      "outputs": [
        {
          "data": {
            "text/plain": [
              "<matplotlib.image.AxesImage at 0x1946a39db38>"
            ]
          },
          "execution_count": 90,
          "metadata": {},
          "output_type": "execute_result"
        },
        {
          "data": {
            "image/png": "[encoded data removed]",
            "text/plain": [
              "<Figure size 432x288 with 1 Axes>"
            ]
          },
          "metadata": {
            "needs_background": "light"
          },
          "output_type": "display_data"
        }
      ],
      "source": [
        "kernel = np.ones((5,5),np.uint8)\n",
        "erosion = cv2.erode(imgINV,kernel,iterations = 1)\n",
        "plt.imshow(erosion, cmap='gray')"
      ]
    },
    {
      "cell_type": "code",
      "execution_count": null,
      "metadata": {
        "id": "oV0q0-FVZvEI",
        "outputId": "7016e11c-3fa9-4ba6-d8cb-b87aa6c05d22"
      },
      "outputs": [
        {
          "data": {
            "text/plain": [
              "<matplotlib.image.AxesImage at 0x194691ba860>"
            ]
          },
          "execution_count": 91,
          "metadata": {},
          "output_type": "execute_result"
        },
        {
          "data": {
            "image/png": "[encoded data removed]",
            "text/plain": [
              "<Figure size 432x288 with 1 Axes>"
            ]
          },
          "metadata": {
            "needs_background": "light"
          },
          "output_type": "display_data"
        }
      ],
      "source": [
        "dilation = cv2.dilate(imgINV,kernel,iterations = 1)\n",
        "plt.imshow(dilation, cmap='gray')"
      ]
    },
    {
      "cell_type": "code",
      "execution_count": null,
      "metadata": {
        "id": "ApEwGrqTZvEI",
        "outputId": "bf0a8062-1668-48a9-d59d-7003ec8bbe96"
      },
      "outputs": [
        {
          "data": {
            "text/plain": [
              "<matplotlib.image.AxesImage at 0x194691c7908>"
            ]
          },
          "execution_count": 92,
          "metadata": {},
          "output_type": "execute_result"
        },
        {
          "data": {
            "image/png": "[encoded data removed]",
            "text/plain": [
              "<Figure size 432x288 with 1 Axes>"
            ]
          },
          "metadata": {
            "needs_background": "light"
          },
          "output_type": "display_data"
        }
      ],
      "source": [
        "opening = cv2.morphologyEx(imgINV, cv2.MORPH_OPEN, kernel)\n",
        "plt.imshow(opening, cmap='gray')"
      ]
    },
    {
      "cell_type": "code",
      "execution_count": null,
      "metadata": {
        "id": "ILU8L0WAZvEI",
        "outputId": "8084e084-56c4-4cd5-c13b-080a4b902e06"
      },
      "outputs": [
        {
          "data": {
            "text/plain": [
              "<matplotlib.image.AxesImage at 0x19469064240>"
            ]
          },
          "execution_count": 93,
          "metadata": {},
          "output_type": "execute_result"
        },
        {
          "data": {
            "image/png": "[encoded data removed]",
            "text/plain": [
              "<Figure size 432x288 with 1 Axes>"
            ]
          },
          "metadata": {
            "needs_background": "light"
          },
          "output_type": "display_data"
        }
      ],
      "source": [
        "closing = cv2.morphologyEx(imgINV, cv2.MORPH_CLOSE, kernel)\n",
        "plt.imshow(closing, cmap='gray')"
      ]
    },
    {
      "cell_type": "code",
      "execution_count": null,
      "metadata": {
        "id": "UCaOcJTxZvEJ",
        "outputId": "75f7c481-3d65-4686-a61f-137a1f95f5a7"
      },
      "outputs": [
        {
          "data": {
            "text/plain": [
              "<matplotlib.image.AxesImage at 0x19468233240>"
            ]
          },
          "execution_count": 94,
          "metadata": {},
          "output_type": "execute_result"
        },
        {
          "data": {
            "image/png": "[encoded data removed]",
            "text/plain": [
              "<Figure size 432x288 with 1 Axes>"
            ]
          },
          "metadata": {
            "needs_background": "light"
          },
          "output_type": "display_data"
        }
      ],
      "source": [
        "#difference entre dilation et erosin\n",
        "gradient = cv2.morphologyEx(imgINV, cv2.MORPH_GRADIENT, kernel)\n",
        "plt.imshow(gradient, cmap='gray')"
      ]
    },
    {
      "cell_type": "code",
      "execution_count": null,
      "metadata": {
        "id": "b8CiEBNeZvEK"
      },
      "outputs": [],
      "source": []
    },
    {
      "cell_type": "code",
      "execution_count": null,
      "metadata": {
        "id": "gUKq7BHkZvEK"
      },
      "outputs": [],
      "source": []
    },
    {
      "cell_type": "code",
      "execution_count": null,
      "metadata": {
        "id": "_fBxmMsPZvEK"
      },
      "outputs": [],
      "source": []
    },
    {
      "cell_type": "code",
      "execution_count": null,
      "metadata": {
        "id": "Ta2TvK79ZvEL"
      },
      "outputs": [],
      "source": []
    }
  ],
  "metadata": {
    "kernelspec": {
      "display_name": "Python 3",
      "language": "python",
      "name": "python3"
    },
    "language_info": {
      "codemirror_mode": {
        "name": "ipython",
        "version": 3
      },
      "file_extension": ".py",
      "mimetype": "text/x-python",
      "name": "python",
      "nbconvert_exporter": "python",
      "pygments_lexer": "ipython3",
      "version": "3.7.3"
    },
    "colab": {
      "provenance": [],
      "include_colab_link": true
    }
  },
  "nbformat": 4,
  "nbformat_minor": 0
}